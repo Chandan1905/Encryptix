{
  "metadata": {
    "kernelspec": {
      "language": "python",
      "display_name": "Python 3",
      "name": "python3"
    },
    "language_info": {
      "name": "python",
      "version": "3.10.13",
      "mimetype": "text/x-python",
      "codemirror_mode": {
        "name": "ipython",
        "version": 3
      },
      "pygments_lexer": "ipython3",
      "nbconvert_exporter": "python",
      "file_extension": ".py"
    },
    "kaggle": {
      "accelerator": "none",
      "dataSources": [
        {
          "sourceId": 1399887,
          "sourceType": "datasetVersion",
          "datasetId": 817870
        }
      ],
      "dockerImageVersionId": 30698,
      "isInternetEnabled": true,
      "language": "python",
      "sourceType": "notebook",
      "isGpuEnabled": false
    },
    "colab": {
      "name": "Encryptix Task 2",
      "provenance": [],
      "include_colab_link": true
    }
  },
  "nbformat_minor": 0,
  "nbformat": 4,
  "cells": [
    {
      "cell_type": "markdown",
      "metadata": {
        "id": "view-in-github",
        "colab_type": "text"
      },
      "source": [
        "<a href=\"https://colab.research.google.com/github/Chandan1905/Encryptix/blob/Project-3/Encryptix_Task_2.ipynb\" target=\"_parent\"><img src=\"https://colab.research.google.com/assets/colab-badge.svg\" alt=\"Open In Colab\"/></a>"
      ]
    },
    {
      "source": [
        "\n",
        "# IMPORTANT: RUN THIS CELL IN ORDER TO IMPORT YOUR KAGGLE DATA SOURCES\n",
        "# TO THE CORRECT LOCATION (/kaggle/input) IN YOUR NOTEBOOK,\n",
        "# THEN FEEL FREE TO DELETE THIS CELL.\n",
        "# NOTE: THIS NOTEBOOK ENVIRONMENT DIFFERS FROM KAGGLE'S PYTHON\n",
        "# ENVIRONMENT SO THERE MAY BE MISSING LIBRARIES USED BY YOUR\n",
        "# NOTEBOOK.\n",
        "\n",
        "import os\n",
        "import sys\n",
        "from tempfile import NamedTemporaryFile\n",
        "from urllib.request import urlopen\n",
        "from urllib.parse import unquote, urlparse\n",
        "from urllib.error import HTTPError\n",
        "from zipfile import ZipFile\n",
        "import tarfile\n",
        "import shutil\n",
        "\n",
        "CHUNK_SIZE = 40960\n",
        "DATA_SOURCE_MAPPING = 'fraud-detection:https%3A%2F%2Fstorage.googleapis.com%2Fkaggle-data-sets%2F817870%2F1399887%2Fbundle%2Farchive.zip%3FX-Goog-Algorithm%3DGOOG4-RSA-SHA256%26X-Goog-Credential%3Dgcp-kaggle-com%2540kaggle-161607.iam.gserviceaccount.com%252F20240526%252Fauto%252Fstorage%252Fgoog4_request%26X-Goog-Date%3D20240526T034439Z%26X-Goog-Expires%3D259200%26X-Goog-SignedHeaders%3Dhost%26X-Goog-Signature%3D681d43afb315e3121f5d34fe2990dafb5d1922541d2f9be80e84a327e19b3ea439907c9f94026f7809eb4616439d2d14ef32c152321b1fb09022de2f269c155a11632f06ef7fed5bbd8116e10a02e63d469e756c66d9dc326d68db492f2cff2eb3479aba10a6a0edcbbb9e7ce70759f2323485a5318ebba09b57216fbad5f8703a0e0c9badf33882eba546a319ddbc555d9edba368059821eff880e7d23fdc4e84f006b1d7266790a046607a94ec840f4f205a2816bc220f8ad48de0a30cf6637a123c921d69e4c10d8e217304220ac933c1a4ffcfbc8198c4b1e73d5ebed72c7cad8ad1c4e54cf369c2a18879bc19c9ffbfabc61631f1f55a5c3dfa3467184f'\n",
        "\n",
        "KAGGLE_INPUT_PATH='/kaggle/input'\n",
        "KAGGLE_WORKING_PATH='/kaggle/working'\n",
        "KAGGLE_SYMLINK='kaggle'\n",
        "\n",
        "!umount /kaggle/input/ 2> /dev/null\n",
        "shutil.rmtree('/kaggle/input', ignore_errors=True)\n",
        "os.makedirs(KAGGLE_INPUT_PATH, 0o777, exist_ok=True)\n",
        "os.makedirs(KAGGLE_WORKING_PATH, 0o777, exist_ok=True)\n",
        "\n",
        "try:\n",
        "  os.symlink(KAGGLE_INPUT_PATH, os.path.join(\"..\", 'input'), target_is_directory=True)\n",
        "except FileExistsError:\n",
        "  pass\n",
        "try:\n",
        "  os.symlink(KAGGLE_WORKING_PATH, os.path.join(\"..\", 'working'), target_is_directory=True)\n",
        "except FileExistsError:\n",
        "  pass\n",
        "\n",
        "for data_source_mapping in DATA_SOURCE_MAPPING.split(','):\n",
        "    directory, download_url_encoded = data_source_mapping.split(':')\n",
        "    download_url = unquote(download_url_encoded)\n",
        "    filename = urlparse(download_url).path\n",
        "    destination_path = os.path.join(KAGGLE_INPUT_PATH, directory)\n",
        "    try:\n",
        "        with urlopen(download_url) as fileres, NamedTemporaryFile() as tfile:\n",
        "            total_length = fileres.headers['content-length']\n",
        "            print(f'Downloading {directory}, {total_length} bytes compressed')\n",
        "            dl = 0\n",
        "            data = fileres.read(CHUNK_SIZE)\n",
        "            while len(data) > 0:\n",
        "                dl += len(data)\n",
        "                tfile.write(data)\n",
        "                done = int(50 * dl / int(total_length))\n",
        "                sys.stdout.write(f\"\\r[{'=' * done}{' ' * (50-done)}] {dl} bytes downloaded\")\n",
        "                sys.stdout.flush()\n",
        "                data = fileres.read(CHUNK_SIZE)\n",
        "            if filename.endswith('.zip'):\n",
        "              with ZipFile(tfile) as zfile:\n",
        "                zfile.extractall(destination_path)\n",
        "            else:\n",
        "              with tarfile.open(tfile.name) as tarfile:\n",
        "                tarfile.extractall(destination_path)\n",
        "            print(f'\\nDownloaded and uncompressed: {directory}')\n",
        "    except HTTPError as e:\n",
        "        print(f'Failed to load (likely expired) {download_url} to path {destination_path}')\n",
        "        continue\n",
        "    except OSError as e:\n",
        "        print(f'Failed to load {download_url} to path {destination_path}')\n",
        "        continue\n",
        "\n",
        "print('Data source import complete.')\n"
      ],
      "metadata": {
        "id": "oqz4TTL4ADJk"
      },
      "cell_type": "code",
      "outputs": [],
      "execution_count": null
    },
    {
      "cell_type": "code",
      "source": [
        "import pandas as pd\n",
        "from sklearn.preprocessing import LabelEncoder, StandardScaler"
      ],
      "metadata": {
        "_uuid": "8f2839f25d086af736a60e9eeb907d3b93b6e0e5",
        "_cell_guid": "b1076dfc-b9ad-4769-8c92-a6c4dae69d19",
        "execution": {
          "iopub.status.busy": "2024-05-21T11:45:37.719455Z",
          "iopub.execute_input": "2024-05-21T11:45:37.719897Z",
          "iopub.status.idle": "2024-05-21T11:45:37.726239Z",
          "shell.execute_reply.started": "2024-05-21T11:45:37.719868Z",
          "shell.execute_reply": "2024-05-21T11:45:37.724449Z"
        },
        "trusted": true,
        "id": "OcacBixtADJn"
      },
      "execution_count": null,
      "outputs": []
    },
    {
      "cell_type": "code",
      "source": [
        "train_data = pd.read_csv('/kaggle/input/fraud-detection/fraudTrain.csv')\n",
        "train_data.head()"
      ],
      "metadata": {
        "execution": {
          "iopub.status.busy": "2024-05-21T11:45:37.728415Z",
          "iopub.execute_input": "2024-05-21T11:45:37.729059Z",
          "iopub.status.idle": "2024-05-21T11:45:48.52538Z",
          "shell.execute_reply.started": "2024-05-21T11:45:37.729028Z",
          "shell.execute_reply": "2024-05-21T11:45:48.524185Z"
        },
        "trusted": true,
        "id": "nkfHzFkwADJn"
      },
      "execution_count": null,
      "outputs": []
    },
    {
      "cell_type": "code",
      "source": [
        "train_data.info()"
      ],
      "metadata": {
        "execution": {
          "iopub.status.busy": "2024-05-21T11:45:48.528276Z",
          "iopub.execute_input": "2024-05-21T11:45:48.529167Z",
          "iopub.status.idle": "2024-05-21T11:45:50.325101Z",
          "shell.execute_reply.started": "2024-05-21T11:45:48.529126Z",
          "shell.execute_reply": "2024-05-21T11:45:50.3241Z"
        },
        "trusted": true,
        "id": "FNOkc0BCADJn"
      },
      "execution_count": null,
      "outputs": []
    },
    {
      "cell_type": "code",
      "source": [
        "data = train_data.drop(['Unnamed: 0', 'cc_num', 'first', 'last', 'street', 'trans_num'], axis=1)\n",
        "data.info()"
      ],
      "metadata": {
        "execution": {
          "iopub.status.busy": "2024-05-21T11:45:50.326789Z",
          "iopub.execute_input": "2024-05-21T11:45:50.327201Z",
          "iopub.status.idle": "2024-05-21T11:45:51.688129Z",
          "shell.execute_reply.started": "2024-05-21T11:45:50.327168Z",
          "shell.execute_reply": "2024-05-21T11:45:51.686886Z"
        },
        "trusted": true,
        "id": "fr4-XSyTADJo"
      },
      "execution_count": null,
      "outputs": []
    },
    {
      "cell_type": "code",
      "source": [
        "# Feature Engineering: Extract features from trans_date_trans_time\n",
        "data['trans_date_trans_time'] = pd.to_datetime(data['trans_date_trans_time'])\n",
        "data['hour'] = data['trans_date_trans_time'].dt.hour\n",
        "data['day'] = data['trans_date_trans_time'].dt.day\n",
        "data['month'] = data['trans_date_trans_time'].dt.month\n",
        "data['day_of_week'] = data['trans_date_trans_time'].dt.dayofweek\n",
        "\n",
        "data['dob'] = pd.to_datetime(data['dob'])\n",
        "data['day_of_birth'] = data['trans_date_trans_time'].dt.day\n",
        "data['month_of_birth'] = data['trans_date_trans_time'].dt.month\n",
        "data['year_of_birth'] = data['trans_date_trans_time'].dt.year\n"
      ],
      "metadata": {
        "execution": {
          "iopub.status.busy": "2024-05-21T11:45:51.690718Z",
          "iopub.execute_input": "2024-05-21T11:45:51.691071Z",
          "iopub.status.idle": "2024-05-21T11:45:52.865638Z",
          "shell.execute_reply.started": "2024-05-21T11:45:51.691041Z",
          "shell.execute_reply": "2024-05-21T11:45:52.863816Z"
        },
        "trusted": true,
        "id": "ZP8dy9gNADJo"
      },
      "execution_count": null,
      "outputs": []
    },
    {
      "cell_type": "code",
      "source": [
        "# Drop the original trans_date_trans_time column\n",
        "data = data.drop(['trans_date_trans_time'], axis=1)\n",
        "data = data.drop(['dob'],axis=1)"
      ],
      "metadata": {
        "execution": {
          "iopub.status.busy": "2024-05-21T11:45:52.867547Z",
          "iopub.execute_input": "2024-05-21T11:45:52.86794Z",
          "iopub.status.idle": "2024-05-21T11:45:53.335773Z",
          "shell.execute_reply.started": "2024-05-21T11:45:52.86791Z",
          "shell.execute_reply": "2024-05-21T11:45:53.333988Z"
        },
        "trusted": true,
        "id": "vdwmCWezADJo"
      },
      "execution_count": null,
      "outputs": []
    },
    {
      "cell_type": "code",
      "source": [
        "# Encode categorical variables\n",
        "label_encoders = {}\n",
        "categorical_columns = ['merchant', 'category', 'gender', 'city', 'state', 'job']\n",
        "for col in categorical_columns:\n",
        "    le = LabelEncoder()\n",
        "    data[col] = le.fit_transform(data[col])\n",
        "    label_encoders[col] = le\n",
        "data"
      ],
      "metadata": {
        "execution": {
          "iopub.status.busy": "2024-05-21T11:45:53.337505Z",
          "iopub.execute_input": "2024-05-21T11:45:53.339899Z",
          "iopub.status.idle": "2024-05-21T11:45:56.474852Z",
          "shell.execute_reply.started": "2024-05-21T11:45:53.33985Z",
          "shell.execute_reply": "2024-05-21T11:45:56.473432Z"
        },
        "trusted": true,
        "id": "rJrZXgozADJo"
      },
      "execution_count": null,
      "outputs": []
    },
    {
      "cell_type": "code",
      "source": [
        "# Standardize the numerical features\n",
        "numerical_columns = X.select_dtypes(include=['float64', 'int64']).columns\n",
        "scaler = StandardScaler()\n",
        "X[numerical_columns] = scaler.fit_transform(X[numerical_columns])\n"
      ],
      "metadata": {
        "execution": {
          "iopub.status.busy": "2024-05-21T11:45:56.4769Z",
          "iopub.execute_input": "2024-05-21T11:45:56.477281Z",
          "iopub.status.idle": "2024-05-21T11:45:57.447567Z",
          "shell.execute_reply.started": "2024-05-21T11:45:56.477237Z",
          "shell.execute_reply": "2024-05-21T11:45:57.445856Z"
        },
        "trusted": true,
        "id": "0zUdOiGQADJo"
      },
      "execution_count": null,
      "outputs": []
    },
    {
      "cell_type": "code",
      "source": [
        "X = data.drop('is_fraud', axis=1)\n",
        "y = data['is_fraud']"
      ],
      "metadata": {
        "execution": {
          "iopub.status.busy": "2024-05-21T11:45:57.449581Z",
          "iopub.execute_input": "2024-05-21T11:45:57.449956Z",
          "iopub.status.idle": "2024-05-21T11:45:57.588399Z",
          "shell.execute_reply.started": "2024-05-21T11:45:57.449925Z",
          "shell.execute_reply": "2024-05-21T11:45:57.586777Z"
        },
        "trusted": true,
        "id": "uxw0f2jLADJo"
      },
      "execution_count": null,
      "outputs": []
    },
    {
      "cell_type": "code",
      "source": [
        "import matplotlib.pyplot as plt\n",
        "data.is_fraud.plot.hist()"
      ],
      "metadata": {
        "execution": {
          "iopub.status.busy": "2024-05-21T11:45:57.591605Z",
          "iopub.execute_input": "2024-05-21T11:45:57.59212Z",
          "iopub.status.idle": "2024-05-21T11:45:57.985624Z",
          "shell.execute_reply.started": "2024-05-21T11:45:57.592077Z",
          "shell.execute_reply": "2024-05-21T11:45:57.984136Z"
        },
        "trusted": true,
        "id": "D_b1QMThADJp"
      },
      "execution_count": null,
      "outputs": []
    },
    {
      "cell_type": "code",
      "source": [
        "X.corrwith(data['is_fraud']).plot.bar(figsize=(16,9), title = 'Correlation with the variables', rot =45, grid=True)"
      ],
      "metadata": {
        "execution": {
          "iopub.status.busy": "2024-05-21T11:45:57.990401Z",
          "iopub.execute_input": "2024-05-21T11:45:57.990935Z",
          "iopub.status.idle": "2024-05-21T11:45:59.274501Z",
          "shell.execute_reply.started": "2024-05-21T11:45:57.990898Z",
          "shell.execute_reply": "2024-05-21T11:45:59.273268Z"
        },
        "trusted": true,
        "id": "Ifl4QXzNADJp"
      },
      "execution_count": null,
      "outputs": []
    },
    {
      "cell_type": "code",
      "source": [
        "from sklearn.linear_model import LogisticRegression\n",
        "clf = LogisticRegression(random_state=0).fit(X,y)"
      ],
      "metadata": {
        "execution": {
          "iopub.status.busy": "2024-05-21T11:45:59.276438Z",
          "iopub.execute_input": "2024-05-21T11:45:59.277202Z",
          "iopub.status.idle": "2024-05-21T11:46:05.970096Z",
          "shell.execute_reply.started": "2024-05-21T11:45:59.277157Z",
          "shell.execute_reply": "2024-05-21T11:46:05.968386Z"
        },
        "trusted": true,
        "id": "mWn_1BRoADJp"
      },
      "execution_count": null,
      "outputs": []
    },
    {
      "cell_type": "code",
      "source": [
        "test_data = pd.read_csv('/kaggle/input/fraud-detection/fraudTest.csv')\n",
        "test_data.info()"
      ],
      "metadata": {
        "execution": {
          "iopub.status.busy": "2024-05-21T11:46:05.972607Z",
          "iopub.execute_input": "2024-05-21T11:46:05.973401Z",
          "iopub.status.idle": "2024-05-21T11:46:11.728158Z",
          "shell.execute_reply.started": "2024-05-21T11:46:05.973356Z",
          "shell.execute_reply": "2024-05-21T11:46:11.726643Z"
        },
        "trusted": true,
        "id": "fNtpCpkrADJp"
      },
      "execution_count": null,
      "outputs": []
    },
    {
      "cell_type": "code",
      "source": [
        "test = test_data.drop(['Unnamed: 0', 'cc_num', 'first', 'last', 'street', 'trans_num'], axis=1)\n",
        "test['trans_date_trans_time'] = pd.to_datetime(test['trans_date_trans_time'])\n",
        "test['hour'] = test['trans_date_trans_time'].dt.hour\n",
        "test['day'] = test['trans_date_trans_time'].dt.day\n",
        "test['month'] = test['trans_date_trans_time'].dt.month\n",
        "test['day_of_week'] = test['trans_date_trans_time'].dt.dayofweek\n",
        "\n",
        "test['dob'] = pd.to_datetime(test['dob'])\n",
        "test['day_of_birth'] = test['trans_date_trans_time'].dt.day\n",
        "test['month_of_birth'] = test['trans_date_trans_time'].dt.month\n",
        "test['year_of_birth'] = test['trans_date_trans_time'].dt.year"
      ],
      "metadata": {
        "execution": {
          "iopub.status.busy": "2024-05-21T11:46:11.729868Z",
          "iopub.execute_input": "2024-05-21T11:46:11.730546Z",
          "iopub.status.idle": "2024-05-21T11:46:12.335361Z",
          "shell.execute_reply.started": "2024-05-21T11:46:11.730498Z",
          "shell.execute_reply": "2024-05-21T11:46:12.333757Z"
        },
        "trusted": true,
        "id": "7yEiD2ohADJp"
      },
      "execution_count": null,
      "outputs": []
    },
    {
      "cell_type": "code",
      "source": [
        "# Drop the original trans_date_trans_time column\n",
        "test = test.drop(['trans_date_trans_time'], axis=1)\n",
        "test = test.drop(['dob'],axis=1)"
      ],
      "metadata": {
        "execution": {
          "iopub.status.busy": "2024-05-21T11:46:12.337399Z",
          "iopub.execute_input": "2024-05-21T11:46:12.338643Z",
          "iopub.status.idle": "2024-05-21T11:46:12.476257Z",
          "shell.execute_reply.started": "2024-05-21T11:46:12.33859Z",
          "shell.execute_reply": "2024-05-21T11:46:12.474818Z"
        },
        "trusted": true,
        "id": "Z0MWEC7NADJp"
      },
      "execution_count": null,
      "outputs": []
    },
    {
      "cell_type": "code",
      "source": [
        "# Encode categorical variables\n",
        "label_encoders = {}\n",
        "categorical_columns = ['merchant', 'category', 'gender', 'city', 'state', 'job']\n",
        "for col in categorical_columns:\n",
        "    le = LabelEncoder()\n",
        "    test[col] = le.fit_transform(test[col])\n",
        "    label_encoders[col] = le\n",
        "test"
      ],
      "metadata": {
        "execution": {
          "iopub.status.busy": "2024-05-21T11:46:12.477815Z",
          "iopub.execute_input": "2024-05-21T11:46:12.478144Z",
          "iopub.status.idle": "2024-05-21T11:46:13.7241Z",
          "shell.execute_reply.started": "2024-05-21T11:46:12.478117Z",
          "shell.execute_reply": "2024-05-21T11:46:13.722836Z"
        },
        "trusted": true,
        "id": "_M9UNsRZADJq"
      },
      "execution_count": null,
      "outputs": []
    },
    {
      "cell_type": "code",
      "source": [
        "# Standardize the numerical features\n",
        "numerical_columns = X.select_dtypes(include=['float64', 'int64']).columns\n",
        "scaler = StandardScaler()\n",
        "X[numerical_columns] = scaler.fit_transform(X[numerical_columns])\n",
        "\n",
        "X_test = test.drop('is_fraud', axis=1)\n",
        "y_test = test['is_fraud']\n"
      ],
      "metadata": {
        "execution": {
          "iopub.status.busy": "2024-05-21T11:46:13.725638Z",
          "iopub.execute_input": "2024-05-21T11:46:13.726265Z",
          "iopub.status.idle": "2024-05-21T11:46:14.523568Z",
          "shell.execute_reply.started": "2024-05-21T11:46:13.726214Z",
          "shell.execute_reply": "2024-05-21T11:46:14.522076Z"
        },
        "trusted": true,
        "id": "3S3SKKi0ADJq"
      },
      "execution_count": null,
      "outputs": []
    },
    {
      "cell_type": "code",
      "source": [
        "y_pred = clf.predict(X_test)"
      ],
      "metadata": {
        "execution": {
          "iopub.status.busy": "2024-05-21T11:46:14.525244Z",
          "iopub.execute_input": "2024-05-21T11:46:14.52604Z",
          "iopub.status.idle": "2024-05-21T11:46:14.577352Z",
          "shell.execute_reply.started": "2024-05-21T11:46:14.525998Z",
          "shell.execute_reply": "2024-05-21T11:46:14.575774Z"
        },
        "trusted": true,
        "id": "8ljQaILwADJq"
      },
      "execution_count": null,
      "outputs": []
    },
    {
      "cell_type": "code",
      "source": [
        "from sklearn.metrics import accuracy_score\n",
        "acc = accuracy_score(y_test,y_pred)\n",
        "acc"
      ],
      "metadata": {
        "execution": {
          "iopub.status.busy": "2024-05-21T11:46:14.586216Z",
          "iopub.execute_input": "2024-05-21T11:46:14.588434Z",
          "iopub.status.idle": "2024-05-21T11:46:14.701093Z",
          "shell.execute_reply.started": "2024-05-21T11:46:14.588335Z",
          "shell.execute_reply": "2024-05-21T11:46:14.700096Z"
        },
        "trusted": true,
        "id": "TKP-PsXQADJq"
      },
      "execution_count": null,
      "outputs": []
    },
    {
      "cell_type": "code",
      "source": [],
      "metadata": {
        "id": "6xxv2rX7ADJq"
      },
      "execution_count": null,
      "outputs": []
    }
  ]
}