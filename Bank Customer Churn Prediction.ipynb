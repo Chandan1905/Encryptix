{
  "metadata": {
    "kernelspec": {
      "language": "python",
      "display_name": "Python 3",
      "name": "python3"
    },
    "language_info": {
      "name": "python",
      "version": "3.10.13",
      "mimetype": "text/x-python",
      "codemirror_mode": {
        "name": "ipython",
        "version": 3
      },
      "pygments_lexer": "ipython3",
      "nbconvert_exporter": "python",
      "file_extension": ".py"
    },
    "kaggle": {
      "accelerator": "none",
      "dataSources": [
        {
          "sourceId": 3322096,
          "sourceType": "datasetVersion",
          "datasetId": 2008274
        }
      ],
      "dockerImageVersionId": 30698,
      "isInternetEnabled": true,
      "language": "python",
      "sourceType": "notebook",
      "isGpuEnabled": false
    },
    "colab": {
      "name": "Encryptix Task1",
      "provenance": [],
      "include_colab_link": true
    }
  },
  "nbformat_minor": 0,
  "nbformat": 4,
  "cells": [
    {
      "cell_type": "markdown",
      "metadata": {
        "id": "view-in-github",
        "colab_type": "text"
      },
      "source": [
        "<a href=\"https://colab.research.google.com/github/Chandan1905/Encryptix/blob/Main/Encryptix_Task1.ipynb\" target=\"_parent\"><img src=\"https://colab.research.google.com/assets/colab-badge.svg\" alt=\"Open In Colab\"/></a>"
      ]
    },
    {
      "source": [
        "\n",
        "# IMPORTANT: RUN THIS CELL IN ORDER TO IMPORT YOUR KAGGLE DATA SOURCES\n",
        "# TO THE CORRECT LOCATION (/kaggle/input) IN YOUR NOTEBOOK,\n",
        "# THEN FEEL FREE TO DELETE THIS CELL.\n",
        "# NOTE: THIS NOTEBOOK ENVIRONMENT DIFFERS FROM KAGGLE'S PYTHON\n",
        "# ENVIRONMENT SO THERE MAY BE MISSING LIBRARIES USED BY YOUR\n",
        "# NOTEBOOK.\n",
        "\n",
        "import os\n",
        "import sys\n",
        "from tempfile import NamedTemporaryFile\n",
        "from urllib.request import urlopen\n",
        "from urllib.parse import unquote, urlparse\n",
        "from urllib.error import HTTPError\n",
        "from zipfile import ZipFile\n",
        "import tarfile\n",
        "import shutil\n",
        "\n",
        "CHUNK_SIZE = 40960\n",
        "DATA_SOURCE_MAPPING = 'bank-customer-churn-prediction:https%3A%2F%2Fstorage.googleapis.com%2Fkaggle-data-sets%2F2008274%2F3322096%2Fbundle%2Farchive.zip%3FX-Goog-Algorithm%3DGOOG4-RSA-SHA256%26X-Goog-Credential%3Dgcp-kaggle-com%2540kaggle-161607.iam.gserviceaccount.com%252F20240526%252Fauto%252Fstorage%252Fgoog4_request%26X-Goog-Date%3D20240526T035154Z%26X-Goog-Expires%3D259200%26X-Goog-SignedHeaders%3Dhost%26X-Goog-Signature%3D1996dffb5f1efffcbbead99f14f127af2f7f77e11824487e0a6dfabaee187db7840d1266a493de69f2c143ad08e529cf7899a16422a082b102633f72fbb64ac3b915441cb8b73f46c32890e9bd5d6b50ae6586e5090e4932ac62f870c62e71faf0e17ab5108ad66c6cfdc2c51b18db65ec7a3081f100f90aa69f43ab0151593cefd378b906996a4d36a3ec93d9da02f89ae9c491681c8bbe231d5880364b1e4894543feab72ce4e0b79521b9b90796702e0bc9997f9aa32e831bb011914ab26a1508143846fa9182f2b4b572be1d8b7e53ef31bc8b38458802d0caf00d87d063b77d0eb228c36e70342473918292a2f8f11c8a747a02dd7fab00cd9536500f2a'\n",
        "\n",
        "KAGGLE_INPUT_PATH='/kaggle/input'\n",
        "KAGGLE_WORKING_PATH='/kaggle/working'\n",
        "KAGGLE_SYMLINK='kaggle'\n",
        "\n",
        "!umount /kaggle/input/ 2> /dev/null\n",
        "shutil.rmtree('/kaggle/input', ignore_errors=True)\n",
        "os.makedirs(KAGGLE_INPUT_PATH, 0o777, exist_ok=True)\n",
        "os.makedirs(KAGGLE_WORKING_PATH, 0o777, exist_ok=True)\n",
        "\n",
        "try:\n",
        "  os.symlink(KAGGLE_INPUT_PATH, os.path.join(\"..\", 'input'), target_is_directory=True)\n",
        "except FileExistsError:\n",
        "  pass\n",
        "try:\n",
        "  os.symlink(KAGGLE_WORKING_PATH, os.path.join(\"..\", 'working'), target_is_directory=True)\n",
        "except FileExistsError:\n",
        "  pass\n",
        "\n",
        "for data_source_mapping in DATA_SOURCE_MAPPING.split(','):\n",
        "    directory, download_url_encoded = data_source_mapping.split(':')\n",
        "    download_url = unquote(download_url_encoded)\n",
        "    filename = urlparse(download_url).path\n",
        "    destination_path = os.path.join(KAGGLE_INPUT_PATH, directory)\n",
        "    try:\n",
        "        with urlopen(download_url) as fileres, NamedTemporaryFile() as tfile:\n",
        "            total_length = fileres.headers['content-length']\n",
        "            print(f'Downloading {directory}, {total_length} bytes compressed')\n",
        "            dl = 0\n",
        "            data = fileres.read(CHUNK_SIZE)\n",
        "            while len(data) > 0:\n",
        "                dl += len(data)\n",
        "                tfile.write(data)\n",
        "                done = int(50 * dl / int(total_length))\n",
        "                sys.stdout.write(f\"\\r[{'=' * done}{' ' * (50-done)}] {dl} bytes downloaded\")\n",
        "                sys.stdout.flush()\n",
        "                data = fileres.read(CHUNK_SIZE)\n",
        "            if filename.endswith('.zip'):\n",
        "              with ZipFile(tfile) as zfile:\n",
        "                zfile.extractall(destination_path)\n",
        "            else:\n",
        "              with tarfile.open(tfile.name) as tarfile:\n",
        "                tarfile.extractall(destination_path)\n",
        "            print(f'\\nDownloaded and uncompressed: {directory}')\n",
        "    except HTTPError as e:\n",
        "        print(f'Failed to load (likely expired) {download_url} to path {destination_path}')\n",
        "        continue\n",
        "    except OSError as e:\n",
        "        print(f'Failed to load {download_url} to path {destination_path}')\n",
        "        continue\n",
        "\n",
        "print('Data source import complete.')\n"
      ],
      "metadata": {
        "id": "qTX0TBTjBtNv"
      },
      "cell_type": "code",
      "outputs": [],
      "execution_count": null
    },
    {
      "cell_type": "code",
      "source": [
        "import pandas as pd\n",
        "import numpy as np\n",
        "import matplotlib.pyplot as plt\n"
      ],
      "metadata": {
        "_uuid": "8f2839f25d086af736a60e9eeb907d3b93b6e0e5",
        "_cell_guid": "b1076dfc-b9ad-4769-8c92-a6c4dae69d19",
        "execution": {
          "iopub.status.busy": "2024-05-17T13:24:13.868156Z",
          "iopub.execute_input": "2024-05-17T13:24:13.868632Z",
          "iopub.status.idle": "2024-05-17T13:24:15.129353Z",
          "shell.execute_reply.started": "2024-05-17T13:24:13.868598Z",
          "shell.execute_reply": "2024-05-17T13:24:15.128032Z"
        },
        "trusted": true,
        "id": "c_0--dFNBtNy"
      },
      "execution_count": null,
      "outputs": []
    },
    {
      "cell_type": "code",
      "source": [
        "data = pd.read_csv('/kaggle/input/bank-customer-churn-prediction/Churn_Modelling.csv')\n",
        "data"
      ],
      "metadata": {
        "execution": {
          "iopub.status.busy": "2024-05-17T13:25:35.83413Z",
          "iopub.execute_input": "2024-05-17T13:25:35.834514Z",
          "iopub.status.idle": "2024-05-17T13:25:35.93613Z",
          "shell.execute_reply.started": "2024-05-17T13:25:35.834485Z",
          "shell.execute_reply": "2024-05-17T13:25:35.934505Z"
        },
        "trusted": true,
        "id": "reYSXsmQBtNz"
      },
      "execution_count": null,
      "outputs": []
    },
    {
      "cell_type": "code",
      "source": [
        "feature_data = data.drop(columns = ['RowNumber','CustomerId','Surname'])\n",
        "feature_data"
      ],
      "metadata": {
        "execution": {
          "iopub.status.busy": "2024-05-17T13:27:19.863771Z",
          "iopub.execute_input": "2024-05-17T13:27:19.86419Z",
          "iopub.status.idle": "2024-05-17T13:27:19.889364Z",
          "shell.execute_reply.started": "2024-05-17T13:27:19.86415Z",
          "shell.execute_reply": "2024-05-17T13:27:19.887723Z"
        },
        "trusted": true,
        "id": "vXAMsToJBtNz"
      },
      "execution_count": null,
      "outputs": []
    },
    {
      "cell_type": "code",
      "source": [
        "feature_data = pd.get_dummies(data=feature_data,drop_first=True)\n",
        "feature_data.info()"
      ],
      "metadata": {
        "execution": {
          "iopub.status.busy": "2024-05-17T13:29:32.663589Z",
          "iopub.execute_input": "2024-05-17T13:29:32.663992Z",
          "iopub.status.idle": "2024-05-17T13:29:32.688503Z",
          "shell.execute_reply.started": "2024-05-17T13:29:32.663962Z",
          "shell.execute_reply": "2024-05-17T13:29:32.687178Z"
        },
        "trusted": true,
        "id": "Ds6pWBz7BtN0"
      },
      "execution_count": null,
      "outputs": []
    },
    {
      "cell_type": "code",
      "source": [
        "feature_data = feature_data.dropna()\n",
        "feature_data.info()"
      ],
      "metadata": {
        "execution": {
          "iopub.status.busy": "2024-05-17T13:30:24.263676Z",
          "iopub.execute_input": "2024-05-17T13:30:24.264182Z",
          "iopub.status.idle": "2024-05-17T13:30:24.281009Z",
          "shell.execute_reply.started": "2024-05-17T13:30:24.264145Z",
          "shell.execute_reply": "2024-05-17T13:30:24.279807Z"
        },
        "trusted": true,
        "id": "nFQ9HJ6LBtN0"
      },
      "execution_count": null,
      "outputs": []
    },
    {
      "cell_type": "code",
      "source": [
        "target = feature_data['Exited']\n",
        "feature_data = feature_data.drop(columns = 'Exited')"
      ],
      "metadata": {
        "execution": {
          "iopub.status.busy": "2024-05-17T13:32:13.903356Z",
          "iopub.execute_input": "2024-05-17T13:32:13.903759Z",
          "iopub.status.idle": "2024-05-17T13:32:13.911803Z",
          "shell.execute_reply.started": "2024-05-17T13:32:13.90373Z",
          "shell.execute_reply": "2024-05-17T13:32:13.910377Z"
        },
        "trusted": true,
        "id": "vX_5Fz75BtN0"
      },
      "execution_count": null,
      "outputs": []
    },
    {
      "cell_type": "code",
      "source": [
        "feature_data.corrwith(target).plot.bar(figsize=(16,9), title = 'Correlation with the variables', rot =45, grid=True)"
      ],
      "metadata": {
        "execution": {
          "iopub.status.busy": "2024-05-17T13:33:08.075194Z",
          "iopub.execute_input": "2024-05-17T13:33:08.075622Z",
          "iopub.status.idle": "2024-05-17T13:33:08.60457Z",
          "shell.execute_reply.started": "2024-05-17T13:33:08.075593Z",
          "shell.execute_reply": "2024-05-17T13:33:08.60323Z"
        },
        "trusted": true,
        "id": "eQ1FtxDNBtN1"
      },
      "execution_count": null,
      "outputs": []
    },
    {
      "cell_type": "code",
      "source": [
        "x = feature_data\n",
        "y = target"
      ],
      "metadata": {
        "execution": {
          "iopub.status.busy": "2024-05-17T13:34:21.703422Z",
          "iopub.execute_input": "2024-05-17T13:34:21.703849Z",
          "iopub.status.idle": "2024-05-17T13:34:21.709409Z",
          "shell.execute_reply.started": "2024-05-17T13:34:21.703816Z",
          "shell.execute_reply": "2024-05-17T13:34:21.707976Z"
        },
        "trusted": true,
        "id": "a6l-nfjFBtN1"
      },
      "execution_count": null,
      "outputs": []
    },
    {
      "cell_type": "code",
      "source": [
        "from sklearn.model_selection import train_test_split\n",
        "x_train, x_test, y_train, y_test = train_test_split(x,y, test_size =0.3, random_state=0)"
      ],
      "metadata": {
        "execution": {
          "iopub.status.busy": "2024-05-17T13:34:39.933401Z",
          "iopub.execute_input": "2024-05-17T13:34:39.933826Z",
          "iopub.status.idle": "2024-05-17T13:34:40.617592Z",
          "shell.execute_reply.started": "2024-05-17T13:34:39.933798Z",
          "shell.execute_reply": "2024-05-17T13:34:40.616236Z"
        },
        "trusted": true,
        "id": "ER74Jz4YBtN1"
      },
      "execution_count": null,
      "outputs": []
    },
    {
      "cell_type": "code",
      "source": [
        "from sklearn.preprocessing import StandardScaler\n",
        "scaler = StandardScaler()\n",
        "X_train = scaler.fit_transform(x_train)\n",
        "X_test = scaler.fit_transform(x_test)"
      ],
      "metadata": {
        "execution": {
          "iopub.status.busy": "2024-05-17T13:35:10.914102Z",
          "iopub.execute_input": "2024-05-17T13:35:10.914505Z",
          "iopub.status.idle": "2024-05-17T13:35:10.939733Z",
          "shell.execute_reply.started": "2024-05-17T13:35:10.914476Z",
          "shell.execute_reply": "2024-05-17T13:35:10.938758Z"
        },
        "trusted": true,
        "id": "3GjHI0oiBtN1"
      },
      "execution_count": null,
      "outputs": []
    },
    {
      "cell_type": "code",
      "source": [
        "from sklearn.metrics import accuracy_score, confusion_matrix, f1_score, precision_score, recall_score"
      ],
      "metadata": {
        "execution": {
          "iopub.status.busy": "2024-05-17T13:36:19.508788Z",
          "iopub.execute_input": "2024-05-17T13:36:19.509184Z",
          "iopub.status.idle": "2024-05-17T13:36:19.51537Z",
          "shell.execute_reply.started": "2024-05-17T13:36:19.509154Z",
          "shell.execute_reply": "2024-05-17T13:36:19.513837Z"
        },
        "trusted": true,
        "id": "oMhcOjf0BtN2"
      },
      "execution_count": null,
      "outputs": []
    },
    {
      "cell_type": "code",
      "source": [
        "from sklearn.linear_model import LogisticRegression\n",
        "clf = LogisticRegression(random_state=0).fit(X_train,y_train)\n",
        "y_pred = clf.predict(x_test)\n",
        "acc = accuracy_score(y_test,y_pred)\n",
        "f1 = f1_score(y_test,y_pred)\n",
        "prec = precision_score(y_test,y_pred)\n",
        "rec = recall_score(y_test,y_pred)\n",
        "results = pd.DataFrame([['Logistic Regression',acc,f1,prec,rec]],columns=['Model','Accuracy', 'f1 Score', 'Precision', 'Recall'])\n",
        "results"
      ],
      "metadata": {
        "execution": {
          "iopub.status.busy": "2024-05-17T13:36:46.020456Z",
          "iopub.execute_input": "2024-05-17T13:36:46.022216Z",
          "iopub.status.idle": "2024-05-17T13:36:46.208494Z",
          "shell.execute_reply.started": "2024-05-17T13:36:46.022164Z",
          "shell.execute_reply": "2024-05-17T13:36:46.206467Z"
        },
        "trusted": true,
        "id": "tvjOTfkWBtN2"
      },
      "execution_count": null,
      "outputs": []
    },
    {
      "cell_type": "code",
      "source": [
        "from sklearn.ensemble import RandomForestClassifier\n",
        "clf2 = RandomForestClassifier(random_state=0).fit(X_train,y_train)\n",
        "y_pred = clf2.predict(X_test)\n",
        "acc = accuracy_score(y_test,y_pred)\n",
        "f1 = f1_score(y_test,y_pred)\n",
        "prec = precision_score(y_test,y_pred)\n",
        "rec = recall_score(y_test,y_pred)\n",
        "new_results =pd.DataFrame([['Random Forest Classifier',acc,f1,prec,rec]],columns=['Model','Accuracy', 'f1 Score', 'Precision', 'Recall'])\n",
        "new_results"
      ],
      "metadata": {
        "execution": {
          "iopub.status.busy": "2024-05-17T13:38:41.470841Z",
          "iopub.execute_input": "2024-05-17T13:38:41.471256Z",
          "iopub.status.idle": "2024-05-17T13:38:42.745811Z",
          "shell.execute_reply.started": "2024-05-17T13:38:41.471225Z",
          "shell.execute_reply": "2024-05-17T13:38:42.744602Z"
        },
        "trusted": true,
        "id": "re_l5EKcBtN2"
      },
      "execution_count": null,
      "outputs": []
    },
    {
      "cell_type": "code",
      "source": [],
      "metadata": {
        "id": "X1IsX1nJBtN2"
      },
      "execution_count": null,
      "outputs": []
    }
  ]
}
