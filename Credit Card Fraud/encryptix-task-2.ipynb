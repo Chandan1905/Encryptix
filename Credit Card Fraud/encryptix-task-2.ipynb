{
 "cells": [
  {
   "cell_type": "code",
   "execution_count": 1,
   "id": "29f39962",
   "metadata": {
    "_cell_guid": "b1076dfc-b9ad-4769-8c92-a6c4dae69d19",
    "_uuid": "8f2839f25d086af736a60e9eeb907d3b93b6e0e5",
    "execution": {
     "iopub.execute_input": "2024-05-21T11:46:32.378827Z",
     "iopub.status.busy": "2024-05-21T11:46:32.377971Z",
     "iopub.status.idle": "2024-05-21T11:46:34.572616Z",
     "shell.execute_reply": "2024-05-21T11:46:34.571109Z"
    },
    "papermill": {
     "duration": 2.205113,
     "end_time": "2024-05-21T11:46:34.575650",
     "exception": false,
     "start_time": "2024-05-21T11:46:32.370537",
     "status": "completed"
    },
    "tags": []
   },
   "outputs": [],
   "source": [
    "import pandas as pd\n",
    "from sklearn.preprocessing import LabelEncoder, StandardScaler"
   ]
  },
  {
   "cell_type": "code",
   "execution_count": 2,
   "id": "e37fb5da",
   "metadata": {
    "execution": {
     "iopub.execute_input": "2024-05-21T11:46:34.588321Z",
     "iopub.status.busy": "2024-05-21T11:46:34.587769Z",
     "iopub.status.idle": "2024-05-21T11:46:46.634346Z",
     "shell.execute_reply": "2024-05-21T11:46:46.633145Z"
    },
    "papermill": {
     "duration": 12.055619,
     "end_time": "2024-05-21T11:46:46.636773",
     "exception": false,
     "start_time": "2024-05-21T11:46:34.581154",
     "status": "completed"
    },
    "tags": []
   },
   "outputs": [
    {
     "data": {
      "text/html": [
       "<div>\n",
       "<style scoped>\n",
       "    .dataframe tbody tr th:only-of-type {\n",
       "        vertical-align: middle;\n",
       "    }\n",
       "\n",
       "    .dataframe tbody tr th {\n",
       "        vertical-align: top;\n",
       "    }\n",
       "\n",
       "    .dataframe thead th {\n",
       "        text-align: right;\n",
       "    }\n",
       "</style>\n",
       "<table border=\"1\" class=\"dataframe\">\n",
       "  <thead>\n",
       "    <tr style=\"text-align: right;\">\n",
       "      <th></th>\n",
       "      <th>Unnamed: 0</th>\n",
       "      <th>trans_date_trans_time</th>\n",
       "      <th>cc_num</th>\n",
       "      <th>merchant</th>\n",
       "      <th>category</th>\n",
       "      <th>amt</th>\n",
       "      <th>first</th>\n",
       "      <th>last</th>\n",
       "      <th>gender</th>\n",
       "      <th>street</th>\n",
       "      <th>...</th>\n",
       "      <th>lat</th>\n",
       "      <th>long</th>\n",
       "      <th>city_pop</th>\n",
       "      <th>job</th>\n",
       "      <th>dob</th>\n",
       "      <th>trans_num</th>\n",
       "      <th>unix_time</th>\n",
       "      <th>merch_lat</th>\n",
       "      <th>merch_long</th>\n",
       "      <th>is_fraud</th>\n",
       "    </tr>\n",
       "  </thead>\n",
       "  <tbody>\n",
       "    <tr>\n",
       "      <th>0</th>\n",
       "      <td>0</td>\n",
       "      <td>2019-01-01 00:00:18</td>\n",
       "      <td>2703186189652095</td>\n",
       "      <td>fraud_Rippin, Kub and Mann</td>\n",
       "      <td>misc_net</td>\n",
       "      <td>4.97</td>\n",
       "      <td>Jennifer</td>\n",
       "      <td>Banks</td>\n",
       "      <td>F</td>\n",
       "      <td>561 Perry Cove</td>\n",
       "      <td>...</td>\n",
       "      <td>36.0788</td>\n",
       "      <td>-81.1781</td>\n",
       "      <td>3495</td>\n",
       "      <td>Psychologist, counselling</td>\n",
       "      <td>1988-03-09</td>\n",
       "      <td>0b242abb623afc578575680df30655b9</td>\n",
       "      <td>1325376018</td>\n",
       "      <td>36.011293</td>\n",
       "      <td>-82.048315</td>\n",
       "      <td>0</td>\n",
       "    </tr>\n",
       "    <tr>\n",
       "      <th>1</th>\n",
       "      <td>1</td>\n",
       "      <td>2019-01-01 00:00:44</td>\n",
       "      <td>630423337322</td>\n",
       "      <td>fraud_Heller, Gutmann and Zieme</td>\n",
       "      <td>grocery_pos</td>\n",
       "      <td>107.23</td>\n",
       "      <td>Stephanie</td>\n",
       "      <td>Gill</td>\n",
       "      <td>F</td>\n",
       "      <td>43039 Riley Greens Suite 393</td>\n",
       "      <td>...</td>\n",
       "      <td>48.8878</td>\n",
       "      <td>-118.2105</td>\n",
       "      <td>149</td>\n",
       "      <td>Special educational needs teacher</td>\n",
       "      <td>1978-06-21</td>\n",
       "      <td>1f76529f8574734946361c461b024d99</td>\n",
       "      <td>1325376044</td>\n",
       "      <td>49.159047</td>\n",
       "      <td>-118.186462</td>\n",
       "      <td>0</td>\n",
       "    </tr>\n",
       "    <tr>\n",
       "      <th>2</th>\n",
       "      <td>2</td>\n",
       "      <td>2019-01-01 00:00:51</td>\n",
       "      <td>38859492057661</td>\n",
       "      <td>fraud_Lind-Buckridge</td>\n",
       "      <td>entertainment</td>\n",
       "      <td>220.11</td>\n",
       "      <td>Edward</td>\n",
       "      <td>Sanchez</td>\n",
       "      <td>M</td>\n",
       "      <td>594 White Dale Suite 530</td>\n",
       "      <td>...</td>\n",
       "      <td>42.1808</td>\n",
       "      <td>-112.2620</td>\n",
       "      <td>4154</td>\n",
       "      <td>Nature conservation officer</td>\n",
       "      <td>1962-01-19</td>\n",
       "      <td>a1a22d70485983eac12b5b88dad1cf95</td>\n",
       "      <td>1325376051</td>\n",
       "      <td>43.150704</td>\n",
       "      <td>-112.154481</td>\n",
       "      <td>0</td>\n",
       "    </tr>\n",
       "    <tr>\n",
       "      <th>3</th>\n",
       "      <td>3</td>\n",
       "      <td>2019-01-01 00:01:16</td>\n",
       "      <td>3534093764340240</td>\n",
       "      <td>fraud_Kutch, Hermiston and Farrell</td>\n",
       "      <td>gas_transport</td>\n",
       "      <td>45.00</td>\n",
       "      <td>Jeremy</td>\n",
       "      <td>White</td>\n",
       "      <td>M</td>\n",
       "      <td>9443 Cynthia Court Apt. 038</td>\n",
       "      <td>...</td>\n",
       "      <td>46.2306</td>\n",
       "      <td>-112.1138</td>\n",
       "      <td>1939</td>\n",
       "      <td>Patent attorney</td>\n",
       "      <td>1967-01-12</td>\n",
       "      <td>6b849c168bdad6f867558c3793159a81</td>\n",
       "      <td>1325376076</td>\n",
       "      <td>47.034331</td>\n",
       "      <td>-112.561071</td>\n",
       "      <td>0</td>\n",
       "    </tr>\n",
       "    <tr>\n",
       "      <th>4</th>\n",
       "      <td>4</td>\n",
       "      <td>2019-01-01 00:03:06</td>\n",
       "      <td>375534208663984</td>\n",
       "      <td>fraud_Keeling-Crist</td>\n",
       "      <td>misc_pos</td>\n",
       "      <td>41.96</td>\n",
       "      <td>Tyler</td>\n",
       "      <td>Garcia</td>\n",
       "      <td>M</td>\n",
       "      <td>408 Bradley Rest</td>\n",
       "      <td>...</td>\n",
       "      <td>38.4207</td>\n",
       "      <td>-79.4629</td>\n",
       "      <td>99</td>\n",
       "      <td>Dance movement psychotherapist</td>\n",
       "      <td>1986-03-28</td>\n",
       "      <td>a41d7549acf90789359a9aa5346dcb46</td>\n",
       "      <td>1325376186</td>\n",
       "      <td>38.674999</td>\n",
       "      <td>-78.632459</td>\n",
       "      <td>0</td>\n",
       "    </tr>\n",
       "  </tbody>\n",
       "</table>\n",
       "<p>5 rows × 23 columns</p>\n",
       "</div>"
      ],
      "text/plain": [
       "   Unnamed: 0 trans_date_trans_time            cc_num  \\\n",
       "0           0   2019-01-01 00:00:18  2703186189652095   \n",
       "1           1   2019-01-01 00:00:44      630423337322   \n",
       "2           2   2019-01-01 00:00:51    38859492057661   \n",
       "3           3   2019-01-01 00:01:16  3534093764340240   \n",
       "4           4   2019-01-01 00:03:06   375534208663984   \n",
       "\n",
       "                             merchant       category     amt      first  \\\n",
       "0          fraud_Rippin, Kub and Mann       misc_net    4.97   Jennifer   \n",
       "1     fraud_Heller, Gutmann and Zieme    grocery_pos  107.23  Stephanie   \n",
       "2                fraud_Lind-Buckridge  entertainment  220.11     Edward   \n",
       "3  fraud_Kutch, Hermiston and Farrell  gas_transport   45.00     Jeremy   \n",
       "4                 fraud_Keeling-Crist       misc_pos   41.96      Tyler   \n",
       "\n",
       "      last gender                        street  ...      lat      long  \\\n",
       "0    Banks      F                561 Perry Cove  ...  36.0788  -81.1781   \n",
       "1     Gill      F  43039 Riley Greens Suite 393  ...  48.8878 -118.2105   \n",
       "2  Sanchez      M      594 White Dale Suite 530  ...  42.1808 -112.2620   \n",
       "3    White      M   9443 Cynthia Court Apt. 038  ...  46.2306 -112.1138   \n",
       "4   Garcia      M              408 Bradley Rest  ...  38.4207  -79.4629   \n",
       "\n",
       "   city_pop                                job         dob  \\\n",
       "0      3495          Psychologist, counselling  1988-03-09   \n",
       "1       149  Special educational needs teacher  1978-06-21   \n",
       "2      4154        Nature conservation officer  1962-01-19   \n",
       "3      1939                    Patent attorney  1967-01-12   \n",
       "4        99     Dance movement psychotherapist  1986-03-28   \n",
       "\n",
       "                          trans_num   unix_time  merch_lat  merch_long  \\\n",
       "0  0b242abb623afc578575680df30655b9  1325376018  36.011293  -82.048315   \n",
       "1  1f76529f8574734946361c461b024d99  1325376044  49.159047 -118.186462   \n",
       "2  a1a22d70485983eac12b5b88dad1cf95  1325376051  43.150704 -112.154481   \n",
       "3  6b849c168bdad6f867558c3793159a81  1325376076  47.034331 -112.561071   \n",
       "4  a41d7549acf90789359a9aa5346dcb46  1325376186  38.674999  -78.632459   \n",
       "\n",
       "   is_fraud  \n",
       "0         0  \n",
       "1         0  \n",
       "2         0  \n",
       "3         0  \n",
       "4         0  \n",
       "\n",
       "[5 rows x 23 columns]"
      ]
     },
     "execution_count": 2,
     "metadata": {},
     "output_type": "execute_result"
    }
   ],
   "source": [
    "train_data = pd.read_csv('/kaggle/input/fraud-detection/fraudTrain.csv')\n",
    "train_data.head()"
   ]
  },
  {
   "cell_type": "code",
   "execution_count": 3,
   "id": "014237e4",
   "metadata": {
    "execution": {
     "iopub.execute_input": "2024-05-21T11:46:46.649627Z",
     "iopub.status.busy": "2024-05-21T11:46:46.649246Z",
     "iopub.status.idle": "2024-05-21T11:46:47.401759Z",
     "shell.execute_reply": "2024-05-21T11:46:47.400419Z"
    },
    "papermill": {
     "duration": 0.76372,
     "end_time": "2024-05-21T11:46:47.406102",
     "exception": false,
     "start_time": "2024-05-21T11:46:46.642382",
     "status": "completed"
    },
    "tags": []
   },
   "outputs": [
    {
     "name": "stdout",
     "output_type": "stream",
     "text": [
      "<class 'pandas.core.frame.DataFrame'>\n",
      "RangeIndex: 1296675 entries, 0 to 1296674\n",
      "Data columns (total 23 columns):\n",
      " #   Column                 Non-Null Count    Dtype  \n",
      "---  ------                 --------------    -----  \n",
      " 0   Unnamed: 0             1296675 non-null  int64  \n",
      " 1   trans_date_trans_time  1296675 non-null  object \n",
      " 2   cc_num                 1296675 non-null  int64  \n",
      " 3   merchant               1296675 non-null  object \n",
      " 4   category               1296675 non-null  object \n",
      " 5   amt                    1296675 non-null  float64\n",
      " 6   first                  1296675 non-null  object \n",
      " 7   last                   1296675 non-null  object \n",
      " 8   gender                 1296675 non-null  object \n",
      " 9   street                 1296675 non-null  object \n",
      " 10  city                   1296675 non-null  object \n",
      " 11  state                  1296675 non-null  object \n",
      " 12  zip                    1296675 non-null  int64  \n",
      " 13  lat                    1296675 non-null  float64\n",
      " 14  long                   1296675 non-null  float64\n",
      " 15  city_pop               1296675 non-null  int64  \n",
      " 16  job                    1296675 non-null  object \n",
      " 17  dob                    1296675 non-null  object \n",
      " 18  trans_num              1296675 non-null  object \n",
      " 19  unix_time              1296675 non-null  int64  \n",
      " 20  merch_lat              1296675 non-null  float64\n",
      " 21  merch_long             1296675 non-null  float64\n",
      " 22  is_fraud               1296675 non-null  int64  \n",
      "dtypes: float64(5), int64(6), object(12)\n",
      "memory usage: 227.5+ MB\n"
     ]
    }
   ],
   "source": [
    "train_data.info()"
   ]
  },
  {
   "cell_type": "code",
   "execution_count": 4,
   "id": "aa969adb",
   "metadata": {
    "execution": {
     "iopub.execute_input": "2024-05-21T11:46:47.419575Z",
     "iopub.status.busy": "2024-05-21T11:46:47.419171Z",
     "iopub.status.idle": "2024-05-21T11:46:48.044440Z",
     "shell.execute_reply": "2024-05-21T11:46:48.043109Z"
    },
    "papermill": {
     "duration": 0.634948,
     "end_time": "2024-05-21T11:46:48.046915",
     "exception": false,
     "start_time": "2024-05-21T11:46:47.411967",
     "status": "completed"
    },
    "tags": []
   },
   "outputs": [
    {
     "name": "stdout",
     "output_type": "stream",
     "text": [
      "<class 'pandas.core.frame.DataFrame'>\n",
      "RangeIndex: 1296675 entries, 0 to 1296674\n",
      "Data columns (total 17 columns):\n",
      " #   Column                 Non-Null Count    Dtype  \n",
      "---  ------                 --------------    -----  \n",
      " 0   trans_date_trans_time  1296675 non-null  object \n",
      " 1   merchant               1296675 non-null  object \n",
      " 2   category               1296675 non-null  object \n",
      " 3   amt                    1296675 non-null  float64\n",
      " 4   gender                 1296675 non-null  object \n",
      " 5   city                   1296675 non-null  object \n",
      " 6   state                  1296675 non-null  object \n",
      " 7   zip                    1296675 non-null  int64  \n",
      " 8   lat                    1296675 non-null  float64\n",
      " 9   long                   1296675 non-null  float64\n",
      " 10  city_pop               1296675 non-null  int64  \n",
      " 11  job                    1296675 non-null  object \n",
      " 12  dob                    1296675 non-null  object \n",
      " 13  unix_time              1296675 non-null  int64  \n",
      " 14  merch_lat              1296675 non-null  float64\n",
      " 15  merch_long             1296675 non-null  float64\n",
      " 16  is_fraud               1296675 non-null  int64  \n",
      "dtypes: float64(5), int64(4), object(8)\n",
      "memory usage: 168.2+ MB\n"
     ]
    }
   ],
   "source": [
    "data = train_data.drop(['Unnamed: 0', 'cc_num', 'first', 'last', 'street', 'trans_num'], axis=1)\n",
    "data.info()"
   ]
  },
  {
   "cell_type": "code",
   "execution_count": 5,
   "id": "ce47e4e0",
   "metadata": {
    "execution": {
     "iopub.execute_input": "2024-05-21T11:46:48.060661Z",
     "iopub.status.busy": "2024-05-21T11:46:48.060254Z",
     "iopub.status.idle": "2024-05-21T11:46:48.991770Z",
     "shell.execute_reply": "2024-05-21T11:46:48.990112Z"
    },
    "papermill": {
     "duration": 0.942557,
     "end_time": "2024-05-21T11:46:48.995366",
     "exception": false,
     "start_time": "2024-05-21T11:46:48.052809",
     "status": "completed"
    },
    "tags": []
   },
   "outputs": [],
   "source": [
    "# Feature Engineering: Extract features from trans_date_trans_time\n",
    "data['trans_date_trans_time'] = pd.to_datetime(data['trans_date_trans_time'])\n",
    "data['hour'] = data['trans_date_trans_time'].dt.hour\n",
    "data['day'] = data['trans_date_trans_time'].dt.day\n",
    "data['month'] = data['trans_date_trans_time'].dt.month\n",
    "data['day_of_week'] = data['trans_date_trans_time'].dt.dayofweek\n",
    "\n",
    "data['dob'] = pd.to_datetime(data['dob'])\n",
    "data['day_of_birth'] = data['trans_date_trans_time'].dt.day\n",
    "data['month_of_birth'] = data['trans_date_trans_time'].dt.month\n",
    "data['year_of_birth'] = data['trans_date_trans_time'].dt.year\n"
   ]
  },
  {
   "cell_type": "code",
   "execution_count": 6,
   "id": "8cd8e6a9",
   "metadata": {
    "execution": {
     "iopub.execute_input": "2024-05-21T11:46:49.014339Z",
     "iopub.status.busy": "2024-05-21T11:46:49.013475Z",
     "iopub.status.idle": "2024-05-21T11:46:49.379827Z",
     "shell.execute_reply": "2024-05-21T11:46:49.378623Z"
    },
    "papermill": {
     "duration": 0.380021,
     "end_time": "2024-05-21T11:46:49.382434",
     "exception": false,
     "start_time": "2024-05-21T11:46:49.002413",
     "status": "completed"
    },
    "tags": []
   },
   "outputs": [],
   "source": [
    "# Drop the original trans_date_trans_time column\n",
    "data = data.drop(['trans_date_trans_time'], axis=1)\n",
    "data = data.drop(['dob'],axis=1)"
   ]
  },
  {
   "cell_type": "code",
   "execution_count": 7,
   "id": "1ee138f6",
   "metadata": {
    "execution": {
     "iopub.execute_input": "2024-05-21T11:46:49.396382Z",
     "iopub.status.busy": "2024-05-21T11:46:49.395980Z",
     "iopub.status.idle": "2024-05-21T11:46:51.594906Z",
     "shell.execute_reply": "2024-05-21T11:46:51.593801Z"
    },
    "papermill": {
     "duration": 2.208973,
     "end_time": "2024-05-21T11:46:51.597385",
     "exception": false,
     "start_time": "2024-05-21T11:46:49.388412",
     "status": "completed"
    },
    "tags": []
   },
   "outputs": [
    {
     "data": {
      "text/html": [
       "<div>\n",
       "<style scoped>\n",
       "    .dataframe tbody tr th:only-of-type {\n",
       "        vertical-align: middle;\n",
       "    }\n",
       "\n",
       "    .dataframe tbody tr th {\n",
       "        vertical-align: top;\n",
       "    }\n",
       "\n",
       "    .dataframe thead th {\n",
       "        text-align: right;\n",
       "    }\n",
       "</style>\n",
       "<table border=\"1\" class=\"dataframe\">\n",
       "  <thead>\n",
       "    <tr style=\"text-align: right;\">\n",
       "      <th></th>\n",
       "      <th>merchant</th>\n",
       "      <th>category</th>\n",
       "      <th>amt</th>\n",
       "      <th>gender</th>\n",
       "      <th>city</th>\n",
       "      <th>state</th>\n",
       "      <th>zip</th>\n",
       "      <th>lat</th>\n",
       "      <th>long</th>\n",
       "      <th>city_pop</th>\n",
       "      <th>...</th>\n",
       "      <th>merch_lat</th>\n",
       "      <th>merch_long</th>\n",
       "      <th>is_fraud</th>\n",
       "      <th>hour</th>\n",
       "      <th>day</th>\n",
       "      <th>month</th>\n",
       "      <th>day_of_week</th>\n",
       "      <th>day_of_birth</th>\n",
       "      <th>month_of_birth</th>\n",
       "      <th>year_of_birth</th>\n",
       "    </tr>\n",
       "  </thead>\n",
       "  <tbody>\n",
       "    <tr>\n",
       "      <th>0</th>\n",
       "      <td>514</td>\n",
       "      <td>8</td>\n",
       "      <td>4.97</td>\n",
       "      <td>0</td>\n",
       "      <td>526</td>\n",
       "      <td>27</td>\n",
       "      <td>28654</td>\n",
       "      <td>36.0788</td>\n",
       "      <td>-81.1781</td>\n",
       "      <td>3495</td>\n",
       "      <td>...</td>\n",
       "      <td>36.011293</td>\n",
       "      <td>-82.048315</td>\n",
       "      <td>0</td>\n",
       "      <td>0</td>\n",
       "      <td>1</td>\n",
       "      <td>1</td>\n",
       "      <td>1</td>\n",
       "      <td>1</td>\n",
       "      <td>1</td>\n",
       "      <td>2019</td>\n",
       "    </tr>\n",
       "    <tr>\n",
       "      <th>1</th>\n",
       "      <td>241</td>\n",
       "      <td>4</td>\n",
       "      <td>107.23</td>\n",
       "      <td>0</td>\n",
       "      <td>612</td>\n",
       "      <td>47</td>\n",
       "      <td>99160</td>\n",
       "      <td>48.8878</td>\n",
       "      <td>-118.2105</td>\n",
       "      <td>149</td>\n",
       "      <td>...</td>\n",
       "      <td>49.159047</td>\n",
       "      <td>-118.186462</td>\n",
       "      <td>0</td>\n",
       "      <td>0</td>\n",
       "      <td>1</td>\n",
       "      <td>1</td>\n",
       "      <td>1</td>\n",
       "      <td>1</td>\n",
       "      <td>1</td>\n",
       "      <td>2019</td>\n",
       "    </tr>\n",
       "    <tr>\n",
       "      <th>2</th>\n",
       "      <td>390</td>\n",
       "      <td>0</td>\n",
       "      <td>220.11</td>\n",
       "      <td>1</td>\n",
       "      <td>468</td>\n",
       "      <td>13</td>\n",
       "      <td>83252</td>\n",
       "      <td>42.1808</td>\n",
       "      <td>-112.2620</td>\n",
       "      <td>4154</td>\n",
       "      <td>...</td>\n",
       "      <td>43.150704</td>\n",
       "      <td>-112.154481</td>\n",
       "      <td>0</td>\n",
       "      <td>0</td>\n",
       "      <td>1</td>\n",
       "      <td>1</td>\n",
       "      <td>1</td>\n",
       "      <td>1</td>\n",
       "      <td>1</td>\n",
       "      <td>2019</td>\n",
       "    </tr>\n",
       "    <tr>\n",
       "      <th>3</th>\n",
       "      <td>360</td>\n",
       "      <td>2</td>\n",
       "      <td>45.00</td>\n",
       "      <td>1</td>\n",
       "      <td>84</td>\n",
       "      <td>26</td>\n",
       "      <td>59632</td>\n",
       "      <td>46.2306</td>\n",
       "      <td>-112.1138</td>\n",
       "      <td>1939</td>\n",
       "      <td>...</td>\n",
       "      <td>47.034331</td>\n",
       "      <td>-112.561071</td>\n",
       "      <td>0</td>\n",
       "      <td>0</td>\n",
       "      <td>1</td>\n",
       "      <td>1</td>\n",
       "      <td>1</td>\n",
       "      <td>1</td>\n",
       "      <td>1</td>\n",
       "      <td>2019</td>\n",
       "    </tr>\n",
       "    <tr>\n",
       "      <th>4</th>\n",
       "      <td>297</td>\n",
       "      <td>9</td>\n",
       "      <td>41.96</td>\n",
       "      <td>1</td>\n",
       "      <td>216</td>\n",
       "      <td>45</td>\n",
       "      <td>24433</td>\n",
       "      <td>38.4207</td>\n",
       "      <td>-79.4629</td>\n",
       "      <td>99</td>\n",
       "      <td>...</td>\n",
       "      <td>38.674999</td>\n",
       "      <td>-78.632459</td>\n",
       "      <td>0</td>\n",
       "      <td>0</td>\n",
       "      <td>1</td>\n",
       "      <td>1</td>\n",
       "      <td>1</td>\n",
       "      <td>1</td>\n",
       "      <td>1</td>\n",
       "      <td>2019</td>\n",
       "    </tr>\n",
       "    <tr>\n",
       "      <th>...</th>\n",
       "      <td>...</td>\n",
       "      <td>...</td>\n",
       "      <td>...</td>\n",
       "      <td>...</td>\n",
       "      <td>...</td>\n",
       "      <td>...</td>\n",
       "      <td>...</td>\n",
       "      <td>...</td>\n",
       "      <td>...</td>\n",
       "      <td>...</td>\n",
       "      <td>...</td>\n",
       "      <td>...</td>\n",
       "      <td>...</td>\n",
       "      <td>...</td>\n",
       "      <td>...</td>\n",
       "      <td>...</td>\n",
       "      <td>...</td>\n",
       "      <td>...</td>\n",
       "      <td>...</td>\n",
       "      <td>...</td>\n",
       "      <td>...</td>\n",
       "    </tr>\n",
       "    <tr>\n",
       "      <th>1296670</th>\n",
       "      <td>499</td>\n",
       "      <td>0</td>\n",
       "      <td>15.56</td>\n",
       "      <td>1</td>\n",
       "      <td>330</td>\n",
       "      <td>44</td>\n",
       "      <td>84735</td>\n",
       "      <td>37.7175</td>\n",
       "      <td>-112.4777</td>\n",
       "      <td>258</td>\n",
       "      <td>...</td>\n",
       "      <td>36.841266</td>\n",
       "      <td>-111.690765</td>\n",
       "      <td>0</td>\n",
       "      <td>12</td>\n",
       "      <td>21</td>\n",
       "      <td>6</td>\n",
       "      <td>6</td>\n",
       "      <td>21</td>\n",
       "      <td>6</td>\n",
       "      <td>2020</td>\n",
       "    </tr>\n",
       "    <tr>\n",
       "      <th>1296671</th>\n",
       "      <td>2</td>\n",
       "      <td>1</td>\n",
       "      <td>51.70</td>\n",
       "      <td>1</td>\n",
       "      <td>813</td>\n",
       "      <td>20</td>\n",
       "      <td>21790</td>\n",
       "      <td>39.2667</td>\n",
       "      <td>-77.5101</td>\n",
       "      <td>100</td>\n",
       "      <td>...</td>\n",
       "      <td>38.906881</td>\n",
       "      <td>-78.246528</td>\n",
       "      <td>0</td>\n",
       "      <td>12</td>\n",
       "      <td>21</td>\n",
       "      <td>6</td>\n",
       "      <td>6</td>\n",
       "      <td>21</td>\n",
       "      <td>6</td>\n",
       "      <td>2020</td>\n",
       "    </tr>\n",
       "    <tr>\n",
       "      <th>1296672</th>\n",
       "      <td>599</td>\n",
       "      <td>1</td>\n",
       "      <td>105.93</td>\n",
       "      <td>1</td>\n",
       "      <td>346</td>\n",
       "      <td>32</td>\n",
       "      <td>88325</td>\n",
       "      <td>32.9396</td>\n",
       "      <td>-105.8189</td>\n",
       "      <td>899</td>\n",
       "      <td>...</td>\n",
       "      <td>33.619513</td>\n",
       "      <td>-105.130529</td>\n",
       "      <td>0</td>\n",
       "      <td>12</td>\n",
       "      <td>21</td>\n",
       "      <td>6</td>\n",
       "      <td>6</td>\n",
       "      <td>21</td>\n",
       "      <td>6</td>\n",
       "      <td>2020</td>\n",
       "    </tr>\n",
       "    <tr>\n",
       "      <th>1296673</th>\n",
       "      <td>509</td>\n",
       "      <td>1</td>\n",
       "      <td>74.90</td>\n",
       "      <td>1</td>\n",
       "      <td>471</td>\n",
       "      <td>41</td>\n",
       "      <td>57756</td>\n",
       "      <td>43.3526</td>\n",
       "      <td>-102.5411</td>\n",
       "      <td>1126</td>\n",
       "      <td>...</td>\n",
       "      <td>42.788940</td>\n",
       "      <td>-103.241160</td>\n",
       "      <td>0</td>\n",
       "      <td>12</td>\n",
       "      <td>21</td>\n",
       "      <td>6</td>\n",
       "      <td>6</td>\n",
       "      <td>21</td>\n",
       "      <td>6</td>\n",
       "      <td>2020</td>\n",
       "    </tr>\n",
       "    <tr>\n",
       "      <th>1296674</th>\n",
       "      <td>370</td>\n",
       "      <td>1</td>\n",
       "      <td>4.30</td>\n",
       "      <td>1</td>\n",
       "      <td>782</td>\n",
       "      <td>26</td>\n",
       "      <td>59871</td>\n",
       "      <td>45.8433</td>\n",
       "      <td>-113.8748</td>\n",
       "      <td>218</td>\n",
       "      <td>...</td>\n",
       "      <td>46.565983</td>\n",
       "      <td>-114.186110</td>\n",
       "      <td>0</td>\n",
       "      <td>12</td>\n",
       "      <td>21</td>\n",
       "      <td>6</td>\n",
       "      <td>6</td>\n",
       "      <td>21</td>\n",
       "      <td>6</td>\n",
       "      <td>2020</td>\n",
       "    </tr>\n",
       "  </tbody>\n",
       "</table>\n",
       "<p>1296675 rows × 22 columns</p>\n",
       "</div>"
      ],
      "text/plain": [
       "         merchant  category     amt  gender  city  state    zip      lat  \\\n",
       "0             514         8    4.97       0   526     27  28654  36.0788   \n",
       "1             241         4  107.23       0   612     47  99160  48.8878   \n",
       "2             390         0  220.11       1   468     13  83252  42.1808   \n",
       "3             360         2   45.00       1    84     26  59632  46.2306   \n",
       "4             297         9   41.96       1   216     45  24433  38.4207   \n",
       "...           ...       ...     ...     ...   ...    ...    ...      ...   \n",
       "1296670       499         0   15.56       1   330     44  84735  37.7175   \n",
       "1296671         2         1   51.70       1   813     20  21790  39.2667   \n",
       "1296672       599         1  105.93       1   346     32  88325  32.9396   \n",
       "1296673       509         1   74.90       1   471     41  57756  43.3526   \n",
       "1296674       370         1    4.30       1   782     26  59871  45.8433   \n",
       "\n",
       "             long  city_pop  ...  merch_lat  merch_long  is_fraud  hour  day  \\\n",
       "0        -81.1781      3495  ...  36.011293  -82.048315         0     0    1   \n",
       "1       -118.2105       149  ...  49.159047 -118.186462         0     0    1   \n",
       "2       -112.2620      4154  ...  43.150704 -112.154481         0     0    1   \n",
       "3       -112.1138      1939  ...  47.034331 -112.561071         0     0    1   \n",
       "4        -79.4629        99  ...  38.674999  -78.632459         0     0    1   \n",
       "...           ...       ...  ...        ...         ...       ...   ...  ...   \n",
       "1296670 -112.4777       258  ...  36.841266 -111.690765         0    12   21   \n",
       "1296671  -77.5101       100  ...  38.906881  -78.246528         0    12   21   \n",
       "1296672 -105.8189       899  ...  33.619513 -105.130529         0    12   21   \n",
       "1296673 -102.5411      1126  ...  42.788940 -103.241160         0    12   21   \n",
       "1296674 -113.8748       218  ...  46.565983 -114.186110         0    12   21   \n",
       "\n",
       "         month  day_of_week  day_of_birth  month_of_birth  year_of_birth  \n",
       "0            1            1             1               1           2019  \n",
       "1            1            1             1               1           2019  \n",
       "2            1            1             1               1           2019  \n",
       "3            1            1             1               1           2019  \n",
       "4            1            1             1               1           2019  \n",
       "...        ...          ...           ...             ...            ...  \n",
       "1296670      6            6            21               6           2020  \n",
       "1296671      6            6            21               6           2020  \n",
       "1296672      6            6            21               6           2020  \n",
       "1296673      6            6            21               6           2020  \n",
       "1296674      6            6            21               6           2020  \n",
       "\n",
       "[1296675 rows x 22 columns]"
      ]
     },
     "execution_count": 7,
     "metadata": {},
     "output_type": "execute_result"
    }
   ],
   "source": [
    "# Encode categorical variables\n",
    "label_encoders = {}\n",
    "categorical_columns = ['merchant', 'category', 'gender', 'city', 'state', 'job']\n",
    "for col in categorical_columns:\n",
    "    le = LabelEncoder()\n",
    "    data[col] = le.fit_transform(data[col])\n",
    "    label_encoders[col] = le\n",
    "data"
   ]
  },
  {
   "cell_type": "code",
   "execution_count": 8,
   "id": "b4086b55",
   "metadata": {
    "execution": {
     "iopub.execute_input": "2024-05-21T11:46:51.611712Z",
     "iopub.status.busy": "2024-05-21T11:46:51.611327Z",
     "iopub.status.idle": "2024-05-21T11:46:52.034626Z",
     "shell.execute_reply": "2024-05-21T11:46:52.033066Z"
    },
    "papermill": {
     "duration": 0.432904,
     "end_time": "2024-05-21T11:46:52.036637",
     "exception": true,
     "start_time": "2024-05-21T11:46:51.603733",
     "status": "failed"
    },
    "tags": []
   },
   "outputs": [
    {
     "ename": "NameError",
     "evalue": "name 'X' is not defined",
     "output_type": "error",
     "traceback": [
      "\u001b[0;31m---------------------------------------------------------------------------\u001b[0m",
      "\u001b[0;31mNameError\u001b[0m                                 Traceback (most recent call last)",
      "Cell \u001b[0;32mIn[8], line 2\u001b[0m\n\u001b[1;32m      1\u001b[0m \u001b[38;5;66;03m# Standardize the numerical features\u001b[39;00m\n\u001b[0;32m----> 2\u001b[0m numerical_columns \u001b[38;5;241m=\u001b[39m \u001b[43mX\u001b[49m\u001b[38;5;241m.\u001b[39mselect_dtypes(include\u001b[38;5;241m=\u001b[39m[\u001b[38;5;124m'\u001b[39m\u001b[38;5;124mfloat64\u001b[39m\u001b[38;5;124m'\u001b[39m, \u001b[38;5;124m'\u001b[39m\u001b[38;5;124mint64\u001b[39m\u001b[38;5;124m'\u001b[39m])\u001b[38;5;241m.\u001b[39mcolumns\n\u001b[1;32m      3\u001b[0m scaler \u001b[38;5;241m=\u001b[39m StandardScaler()\n\u001b[1;32m      4\u001b[0m X[numerical_columns] \u001b[38;5;241m=\u001b[39m scaler\u001b[38;5;241m.\u001b[39mfit_transform(X[numerical_columns])\n",
      "\u001b[0;31mNameError\u001b[0m: name 'X' is not defined"
     ]
    }
   ],
   "source": [
    "# Standardize the numerical features\n",
    "numerical_columns = X.select_dtypes(include=['float64', 'int64']).columns\n",
    "scaler = StandardScaler()\n",
    "X[numerical_columns] = scaler.fit_transform(X[numerical_columns])\n"
   ]
  },
  {
   "cell_type": "code",
   "execution_count": null,
   "id": "0fec6dc1",
   "metadata": {
    "execution": {
     "iopub.execute_input": "2024-05-21T11:45:57.449956Z",
     "iopub.status.busy": "2024-05-21T11:45:57.449581Z",
     "iopub.status.idle": "2024-05-21T11:45:57.588399Z",
     "shell.execute_reply": "2024-05-21T11:45:57.586777Z",
     "shell.execute_reply.started": "2024-05-21T11:45:57.449925Z"
    },
    "papermill": {
     "duration": null,
     "end_time": null,
     "exception": null,
     "start_time": null,
     "status": "pending"
    },
    "tags": []
   },
   "outputs": [],
   "source": [
    "X = data.drop('is_fraud', axis=1)\n",
    "y = data['is_fraud']"
   ]
  },
  {
   "cell_type": "code",
   "execution_count": null,
   "id": "8a8b9447",
   "metadata": {
    "execution": {
     "iopub.execute_input": "2024-05-21T11:45:57.592120Z",
     "iopub.status.busy": "2024-05-21T11:45:57.591605Z",
     "iopub.status.idle": "2024-05-21T11:45:57.985624Z",
     "shell.execute_reply": "2024-05-21T11:45:57.984136Z",
     "shell.execute_reply.started": "2024-05-21T11:45:57.592077Z"
    },
    "papermill": {
     "duration": null,
     "end_time": null,
     "exception": null,
     "start_time": null,
     "status": "pending"
    },
    "tags": []
   },
   "outputs": [],
   "source": [
    "import matplotlib.pyplot as plt\n",
    "data.is_fraud.plot.hist()"
   ]
  },
  {
   "cell_type": "code",
   "execution_count": null,
   "id": "807e384c",
   "metadata": {
    "execution": {
     "iopub.execute_input": "2024-05-21T11:45:57.990935Z",
     "iopub.status.busy": "2024-05-21T11:45:57.990401Z",
     "iopub.status.idle": "2024-05-21T11:45:59.274501Z",
     "shell.execute_reply": "2024-05-21T11:45:59.273268Z",
     "shell.execute_reply.started": "2024-05-21T11:45:57.990898Z"
    },
    "papermill": {
     "duration": null,
     "end_time": null,
     "exception": null,
     "start_time": null,
     "status": "pending"
    },
    "tags": []
   },
   "outputs": [],
   "source": [
    "X.corrwith(data['is_fraud']).plot.bar(figsize=(16,9), title = 'Correlation with the variables', rot =45, grid=True)"
   ]
  },
  {
   "cell_type": "code",
   "execution_count": null,
   "id": "7437662f",
   "metadata": {
    "execution": {
     "iopub.execute_input": "2024-05-21T11:45:59.277202Z",
     "iopub.status.busy": "2024-05-21T11:45:59.276438Z",
     "iopub.status.idle": "2024-05-21T11:46:05.970096Z",
     "shell.execute_reply": "2024-05-21T11:46:05.968386Z",
     "shell.execute_reply.started": "2024-05-21T11:45:59.277157Z"
    },
    "papermill": {
     "duration": null,
     "end_time": null,
     "exception": null,
     "start_time": null,
     "status": "pending"
    },
    "tags": []
   },
   "outputs": [],
   "source": [
    "from sklearn.linear_model import LogisticRegression\n",
    "clf = LogisticRegression(random_state=0).fit(X,y)"
   ]
  },
  {
   "cell_type": "code",
   "execution_count": null,
   "id": "ef2f9462",
   "metadata": {
    "execution": {
     "iopub.execute_input": "2024-05-21T11:46:05.973401Z",
     "iopub.status.busy": "2024-05-21T11:46:05.972607Z",
     "iopub.status.idle": "2024-05-21T11:46:11.728158Z",
     "shell.execute_reply": "2024-05-21T11:46:11.726643Z",
     "shell.execute_reply.started": "2024-05-21T11:46:05.973356Z"
    },
    "papermill": {
     "duration": null,
     "end_time": null,
     "exception": null,
     "start_time": null,
     "status": "pending"
    },
    "tags": []
   },
   "outputs": [],
   "source": [
    "test_data = pd.read_csv('/kaggle/input/fraud-detection/fraudTest.csv')\n",
    "test_data.info()"
   ]
  },
  {
   "cell_type": "code",
   "execution_count": null,
   "id": "ab7e392c",
   "metadata": {
    "execution": {
     "iopub.execute_input": "2024-05-21T11:46:11.730546Z",
     "iopub.status.busy": "2024-05-21T11:46:11.729868Z",
     "iopub.status.idle": "2024-05-21T11:46:12.335361Z",
     "shell.execute_reply": "2024-05-21T11:46:12.333757Z",
     "shell.execute_reply.started": "2024-05-21T11:46:11.730498Z"
    },
    "papermill": {
     "duration": null,
     "end_time": null,
     "exception": null,
     "start_time": null,
     "status": "pending"
    },
    "tags": []
   },
   "outputs": [],
   "source": [
    "test = test_data.drop(['Unnamed: 0', 'cc_num', 'first', 'last', 'street', 'trans_num'], axis=1)\n",
    "test['trans_date_trans_time'] = pd.to_datetime(test['trans_date_trans_time'])\n",
    "test['hour'] = test['trans_date_trans_time'].dt.hour\n",
    "test['day'] = test['trans_date_trans_time'].dt.day\n",
    "test['month'] = test['trans_date_trans_time'].dt.month\n",
    "test['day_of_week'] = test['trans_date_trans_time'].dt.dayofweek\n",
    "\n",
    "test['dob'] = pd.to_datetime(test['dob'])\n",
    "test['day_of_birth'] = test['trans_date_trans_time'].dt.day\n",
    "test['month_of_birth'] = test['trans_date_trans_time'].dt.month\n",
    "test['year_of_birth'] = test['trans_date_trans_time'].dt.year"
   ]
  },
  {
   "cell_type": "code",
   "execution_count": null,
   "id": "afe3f300",
   "metadata": {
    "execution": {
     "iopub.execute_input": "2024-05-21T11:46:12.338643Z",
     "iopub.status.busy": "2024-05-21T11:46:12.337399Z",
     "iopub.status.idle": "2024-05-21T11:46:12.476257Z",
     "shell.execute_reply": "2024-05-21T11:46:12.474818Z",
     "shell.execute_reply.started": "2024-05-21T11:46:12.338590Z"
    },
    "papermill": {
     "duration": null,
     "end_time": null,
     "exception": null,
     "start_time": null,
     "status": "pending"
    },
    "tags": []
   },
   "outputs": [],
   "source": [
    "# Drop the original trans_date_trans_time column\n",
    "test = test.drop(['trans_date_trans_time'], axis=1)\n",
    "test = test.drop(['dob'],axis=1)"
   ]
  },
  {
   "cell_type": "code",
   "execution_count": null,
   "id": "3f0f9522",
   "metadata": {
    "execution": {
     "iopub.execute_input": "2024-05-21T11:46:12.478144Z",
     "iopub.status.busy": "2024-05-21T11:46:12.477815Z",
     "iopub.status.idle": "2024-05-21T11:46:13.724100Z",
     "shell.execute_reply": "2024-05-21T11:46:13.722836Z",
     "shell.execute_reply.started": "2024-05-21T11:46:12.478117Z"
    },
    "papermill": {
     "duration": null,
     "end_time": null,
     "exception": null,
     "start_time": null,
     "status": "pending"
    },
    "tags": []
   },
   "outputs": [],
   "source": [
    "# Encode categorical variables\n",
    "label_encoders = {}\n",
    "categorical_columns = ['merchant', 'category', 'gender', 'city', 'state', 'job']\n",
    "for col in categorical_columns:\n",
    "    le = LabelEncoder()\n",
    "    test[col] = le.fit_transform(test[col])\n",
    "    label_encoders[col] = le\n",
    "test"
   ]
  },
  {
   "cell_type": "code",
   "execution_count": null,
   "id": "3b71979f",
   "metadata": {
    "execution": {
     "iopub.execute_input": "2024-05-21T11:46:13.726265Z",
     "iopub.status.busy": "2024-05-21T11:46:13.725638Z",
     "iopub.status.idle": "2024-05-21T11:46:14.523568Z",
     "shell.execute_reply": "2024-05-21T11:46:14.522076Z",
     "shell.execute_reply.started": "2024-05-21T11:46:13.726214Z"
    },
    "papermill": {
     "duration": null,
     "end_time": null,
     "exception": null,
     "start_time": null,
     "status": "pending"
    },
    "tags": []
   },
   "outputs": [],
   "source": [
    "# Standardize the numerical features\n",
    "numerical_columns = X.select_dtypes(include=['float64', 'int64']).columns\n",
    "scaler = StandardScaler()\n",
    "X[numerical_columns] = scaler.fit_transform(X[numerical_columns])\n",
    "\n",
    "X_test = test.drop('is_fraud', axis=1)\n",
    "y_test = test['is_fraud']\n"
   ]
  },
  {
   "cell_type": "code",
   "execution_count": null,
   "id": "c906b22e",
   "metadata": {
    "execution": {
     "iopub.execute_input": "2024-05-21T11:46:14.526040Z",
     "iopub.status.busy": "2024-05-21T11:46:14.525244Z",
     "iopub.status.idle": "2024-05-21T11:46:14.577352Z",
     "shell.execute_reply": "2024-05-21T11:46:14.575774Z",
     "shell.execute_reply.started": "2024-05-21T11:46:14.525998Z"
    },
    "papermill": {
     "duration": null,
     "end_time": null,
     "exception": null,
     "start_time": null,
     "status": "pending"
    },
    "tags": []
   },
   "outputs": [],
   "source": [
    "y_pred = clf.predict(X_test)"
   ]
  },
  {
   "cell_type": "code",
   "execution_count": null,
   "id": "dc2c0f18",
   "metadata": {
    "execution": {
     "iopub.execute_input": "2024-05-21T11:46:14.588434Z",
     "iopub.status.busy": "2024-05-21T11:46:14.586216Z",
     "iopub.status.idle": "2024-05-21T11:46:14.701093Z",
     "shell.execute_reply": "2024-05-21T11:46:14.700096Z",
     "shell.execute_reply.started": "2024-05-21T11:46:14.588335Z"
    },
    "papermill": {
     "duration": null,
     "end_time": null,
     "exception": null,
     "start_time": null,
     "status": "pending"
    },
    "tags": []
   },
   "outputs": [],
   "source": [
    "from sklearn.metrics import accuracy_score\n",
    "acc = accuracy_score(y_test,y_pred)\n",
    "acc"
   ]
  },
  {
   "cell_type": "code",
   "execution_count": null,
   "id": "4acc18f0",
   "metadata": {
    "papermill": {
     "duration": null,
     "end_time": null,
     "exception": null,
     "start_time": null,
     "status": "pending"
    },
    "tags": []
   },
   "outputs": [],
   "source": []
  }
 ],
 "metadata": {
  "kaggle": {
   "accelerator": "none",
   "dataSources": [
    {
     "datasetId": 817870,
     "sourceId": 1399887,
     "sourceType": "datasetVersion"
    }
   ],
   "dockerImageVersionId": 30698,
   "isGpuEnabled": false,
   "isInternetEnabled": true,
   "language": "python",
   "sourceType": "notebook"
  },
  "kernelspec": {
   "display_name": "Python 3",
   "language": "python",
   "name": "python3"
  },
  "language_info": {
   "codemirror_mode": {
    "name": "ipython",
    "version": 3
   },
   "file_extension": ".py",
   "mimetype": "text/x-python",
   "name": "python",
   "nbconvert_exporter": "python",
   "pygments_lexer": "ipython3",
   "version": "3.10.13"
  },
  "papermill": {
   "default_parameters": {},
   "duration": 23.340919,
   "end_time": "2024-05-21T11:46:52.865287",
   "environment_variables": {},
   "exception": true,
   "input_path": "__notebook__.ipynb",
   "output_path": "__notebook__.ipynb",
   "parameters": {},
   "start_time": "2024-05-21T11:46:29.524368",
   "version": "2.5.0"
  }
 },
 "nbformat": 4,
 "nbformat_minor": 5
}
