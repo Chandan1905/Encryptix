{
  "metadata": {
    "kernelspec": {
      "language": "python",
      "display_name": "Python 3",
      "name": "python3"
    },
    "language_info": {
      "name": "python",
      "version": "3.10.13",
      "mimetype": "text/x-python",
      "codemirror_mode": {
        "name": "ipython",
        "version": 3
      },
      "pygments_lexer": "ipython3",
      "nbconvert_exporter": "python",
      "file_extension": ".py"
    },
    "kaggle": {
      "accelerator": "none",
      "dataSources": [
        {
          "sourceId": 982,
          "sourceType": "datasetVersion",
          "datasetId": 483
        }
      ],
      "dockerImageVersionId": 30698,
      "isInternetEnabled": true,
      "language": "python",
      "sourceType": "notebook",
      "isGpuEnabled": false
    },
    "colab": {
      "name": "Encryptix task 3",
      "provenance": []
    }
  },
  "nbformat_minor": 0,
  "nbformat": 4,
  "cells": [
    {
      "source": [
        "\n",
        "# IMPORTANT: RUN THIS CELL IN ORDER TO IMPORT YOUR KAGGLE DATA SOURCES\n",
        "# TO THE CORRECT LOCATION (/kaggle/input) IN YOUR NOTEBOOK,\n",
        "# THEN FEEL FREE TO DELETE THIS CELL.\n",
        "# NOTE: THIS NOTEBOOK ENVIRONMENT DIFFERS FROM KAGGLE'S PYTHON\n",
        "# ENVIRONMENT SO THERE MAY BE MISSING LIBRARIES USED BY YOUR\n",
        "# NOTEBOOK.\n",
        "\n",
        "import os\n",
        "import sys\n",
        "from tempfile import NamedTemporaryFile\n",
        "from urllib.request import urlopen\n",
        "from urllib.parse import unquote, urlparse\n",
        "from urllib.error import HTTPError\n",
        "from zipfile import ZipFile\n",
        "import tarfile\n",
        "import shutil\n",
        "\n",
        "CHUNK_SIZE = 40960\n",
        "DATA_SOURCE_MAPPING = 'sms-spam-collection-dataset:https%3A%2F%2Fstorage.googleapis.com%2Fkaggle-data-sets%2F483%2F982%2Fbundle%2Farchive.zip%3FX-Goog-Algorithm%3DGOOG4-RSA-SHA256%26X-Goog-Credential%3Dgcp-kaggle-com%2540kaggle-161607.iam.gserviceaccount.com%252F20240527%252Fauto%252Fstorage%252Fgoog4_request%26X-Goog-Date%3D20240527T035342Z%26X-Goog-Expires%3D259200%26X-Goog-SignedHeaders%3Dhost%26X-Goog-Signature%3D44d83509c01f65605819d9db52cc9ae4678feade1d22a11a979ac490b3a2cd62765a545a2b08aa777817c51dc0724c36c035e674e7778cd4bca4d2cb6960ab7084f184cf97528e6ca05b63dcdbb5111a3a2c25b100acbd50851a1d418848657abc7957a3c9282991574526d4a54f6cc642415cec6c23f58e0595a59a44db814f84bfbc2f5b591321913098c0ba657457b42e14071d44516b24c6287f5babb78fbe20d34a85e91851940cfec0e04e7951973b1aaee1b2114ad3997bcfe0e6b7e325a25a5b88e4c2bb6684fdb9d646d457f7be7c24e6ea5f11b9d501b49dfb3ddc41be1f423f3f5152654e60f88342b835b2ed1b570fb6815c74c6ce4ff8e5e74a'\n",
        "\n",
        "KAGGLE_INPUT_PATH='/kaggle/input'\n",
        "KAGGLE_WORKING_PATH='/kaggle/working'\n",
        "KAGGLE_SYMLINK='kaggle'\n",
        "\n",
        "!umount /kaggle/input/ 2> /dev/null\n",
        "shutil.rmtree('/kaggle/input', ignore_errors=True)\n",
        "os.makedirs(KAGGLE_INPUT_PATH, 0o777, exist_ok=True)\n",
        "os.makedirs(KAGGLE_WORKING_PATH, 0o777, exist_ok=True)\n",
        "\n",
        "try:\n",
        "  os.symlink(KAGGLE_INPUT_PATH, os.path.join(\"..\", 'input'), target_is_directory=True)\n",
        "except FileExistsError:\n",
        "  pass\n",
        "try:\n",
        "  os.symlink(KAGGLE_WORKING_PATH, os.path.join(\"..\", 'working'), target_is_directory=True)\n",
        "except FileExistsError:\n",
        "  pass\n",
        "\n",
        "for data_source_mapping in DATA_SOURCE_MAPPING.split(','):\n",
        "    directory, download_url_encoded = data_source_mapping.split(':')\n",
        "    download_url = unquote(download_url_encoded)\n",
        "    filename = urlparse(download_url).path\n",
        "    destination_path = os.path.join(KAGGLE_INPUT_PATH, directory)\n",
        "    try:\n",
        "        with urlopen(download_url) as fileres, NamedTemporaryFile() as tfile:\n",
        "            total_length = fileres.headers['content-length']\n",
        "            print(f'Downloading {directory}, {total_length} bytes compressed')\n",
        "            dl = 0\n",
        "            data = fileres.read(CHUNK_SIZE)\n",
        "            while len(data) > 0:\n",
        "                dl += len(data)\n",
        "                tfile.write(data)\n",
        "                done = int(50 * dl / int(total_length))\n",
        "                sys.stdout.write(f\"\\r[{'=' * done}{' ' * (50-done)}] {dl} bytes downloaded\")\n",
        "                sys.stdout.flush()\n",
        "                data = fileres.read(CHUNK_SIZE)\n",
        "            if filename.endswith('.zip'):\n",
        "              with ZipFile(tfile) as zfile:\n",
        "                zfile.extractall(destination_path)\n",
        "            else:\n",
        "              with tarfile.open(tfile.name) as tarfile:\n",
        "                tarfile.extractall(destination_path)\n",
        "            print(f'\\nDownloaded and uncompressed: {directory}')\n",
        "    except HTTPError as e:\n",
        "        print(f'Failed to load (likely expired) {download_url} to path {destination_path}')\n",
        "        continue\n",
        "    except OSError as e:\n",
        "        print(f'Failed to load {download_url} to path {destination_path}')\n",
        "        continue\n",
        "\n",
        "print('Data source import complete.')\n"
      ],
      "metadata": {
        "id": "0FEOzZEELtcz"
      },
      "cell_type": "code",
      "outputs": [],
      "execution_count": null
    },
    {
      "cell_type": "code",
      "source": [
        "import pandas as pd\n",
        "import numpy as np"
      ],
      "metadata": {
        "_uuid": "8f2839f25d086af736a60e9eeb907d3b93b6e0e5",
        "_cell_guid": "b1076dfc-b9ad-4769-8c92-a6c4dae69d19",
        "execution": {
          "iopub.status.busy": "2024-05-25T09:45:31.714042Z",
          "iopub.execute_input": "2024-05-25T09:45:31.715712Z",
          "iopub.status.idle": "2024-05-25T09:45:33.019158Z",
          "shell.execute_reply.started": "2024-05-25T09:45:31.715655Z",
          "shell.execute_reply": "2024-05-25T09:45:33.01772Z"
        },
        "trusted": true,
        "id": "K0T6krMpLtc5"
      },
      "execution_count": null,
      "outputs": []
    },
    {
      "cell_type": "code",
      "source": [
        "data = pd.read_csv('/kaggle/input/sms-spam-collection-dataset/spam.csv',encoding='latin1')\n",
        "data.head()\n"
      ],
      "metadata": {
        "execution": {
          "iopub.status.busy": "2024-05-25T09:45:33.02139Z",
          "iopub.execute_input": "2024-05-25T09:45:33.022308Z",
          "iopub.status.idle": "2024-05-25T09:45:33.095941Z",
          "shell.execute_reply.started": "2024-05-25T09:45:33.022263Z",
          "shell.execute_reply": "2024-05-25T09:45:33.094741Z"
        },
        "trusted": true,
        "id": "l7BIV2FYLtc6"
      },
      "execution_count": null,
      "outputs": []
    },
    {
      "cell_type": "code",
      "source": [
        "data = data.drop(columns = ['Unnamed: 2','Unnamed: 3','Unnamed: 4'])\n",
        "data"
      ],
      "metadata": {
        "execution": {
          "iopub.status.busy": "2024-05-25T09:45:33.097801Z",
          "iopub.execute_input": "2024-05-25T09:45:33.098259Z",
          "iopub.status.idle": "2024-05-25T09:45:33.120593Z",
          "shell.execute_reply.started": "2024-05-25T09:45:33.098218Z",
          "shell.execute_reply": "2024-05-25T09:45:33.119427Z"
        },
        "trusted": true,
        "id": "8bPHzWwLLtc7"
      },
      "execution_count": null,
      "outputs": []
    },
    {
      "cell_type": "code",
      "source": [
        "data = data.rename(columns = {'v1':'Category','v2':'sms'})\n",
        "data"
      ],
      "metadata": {
        "execution": {
          "iopub.status.busy": "2024-05-25T09:45:33.124066Z",
          "iopub.execute_input": "2024-05-25T09:45:33.124811Z",
          "iopub.status.idle": "2024-05-25T09:45:33.141884Z",
          "shell.execute_reply.started": "2024-05-25T09:45:33.124765Z",
          "shell.execute_reply": "2024-05-25T09:45:33.14048Z"
        },
        "trusted": true,
        "id": "FF7JhfMfLtc8"
      },
      "execution_count": null,
      "outputs": []
    },
    {
      "cell_type": "code",
      "source": [
        "from sklearn.preprocessing import LabelEncoder\n",
        "encoder = LabelEncoder()\n",
        "data['Category'] = encoder.fit_transform(data['Category'])\n",
        "\n",
        "data"
      ],
      "metadata": {
        "execution": {
          "iopub.status.busy": "2024-05-25T09:45:33.143744Z",
          "iopub.execute_input": "2024-05-25T09:45:33.144447Z",
          "iopub.status.idle": "2024-05-25T09:45:34.599882Z",
          "shell.execute_reply.started": "2024-05-25T09:45:33.144389Z",
          "shell.execute_reply": "2024-05-25T09:45:34.598629Z"
        },
        "trusted": true,
        "id": "03vs3405Ltc9"
      },
      "execution_count": null,
      "outputs": []
    },
    {
      "cell_type": "code",
      "source": [
        "data = data.drop_duplicates()\n",
        "data.info()"
      ],
      "metadata": {
        "execution": {
          "iopub.status.busy": "2024-05-25T09:45:34.602467Z",
          "iopub.execute_input": "2024-05-25T09:45:34.603275Z",
          "iopub.status.idle": "2024-05-25T09:45:34.631971Z",
          "shell.execute_reply.started": "2024-05-25T09:45:34.603238Z",
          "shell.execute_reply": "2024-05-25T09:45:34.630797Z"
        },
        "trusted": true,
        "id": "kgVbC-WRLtc9"
      },
      "execution_count": null,
      "outputs": []
    },
    {
      "cell_type": "code",
      "source": [
        "import matplotlib.pyplot as plt\n",
        "\n",
        "data.Category.plot.hist()\n",
        "data.Category.value_counts()"
      ],
      "metadata": {
        "execution": {
          "iopub.status.busy": "2024-05-25T09:45:34.634658Z",
          "iopub.execute_input": "2024-05-25T09:45:34.635358Z",
          "iopub.status.idle": "2024-05-25T09:45:34.979544Z",
          "shell.execute_reply.started": "2024-05-25T09:45:34.635322Z",
          "shell.execute_reply": "2024-05-25T09:45:34.978506Z"
        },
        "trusted": true,
        "id": "DiB6Qq_ILtc-"
      },
      "execution_count": null,
      "outputs": []
    },
    {
      "cell_type": "code",
      "source": [
        "import nltk"
      ],
      "metadata": {
        "execution": {
          "iopub.status.busy": "2024-05-25T09:45:34.981101Z",
          "iopub.execute_input": "2024-05-25T09:45:34.982324Z",
          "iopub.status.idle": "2024-05-25T09:45:35.926098Z",
          "shell.execute_reply.started": "2024-05-25T09:45:34.982288Z",
          "shell.execute_reply": "2024-05-25T09:45:35.92476Z"
        },
        "trusted": true,
        "id": "IxeAqU1ZLtc_"
      },
      "execution_count": null,
      "outputs": []
    },
    {
      "cell_type": "code",
      "source": [
        "nltk.download('punkt')"
      ],
      "metadata": {
        "execution": {
          "iopub.status.busy": "2024-05-25T09:45:35.928004Z",
          "iopub.execute_input": "2024-05-25T09:45:35.929181Z",
          "iopub.status.idle": "2024-05-25T09:45:36.100557Z",
          "shell.execute_reply.started": "2024-05-25T09:45:35.929143Z",
          "shell.execute_reply": "2024-05-25T09:45:36.099376Z"
        },
        "trusted": true,
        "id": "tX8lPRXzLtc_"
      },
      "execution_count": null,
      "outputs": []
    },
    {
      "cell_type": "code",
      "source": [
        "#determining the number of characters\n",
        "data['No_of_characters'] = data['sms'].apply(len)\n",
        "data"
      ],
      "metadata": {
        "execution": {
          "iopub.status.busy": "2024-05-25T09:45:36.105489Z",
          "iopub.execute_input": "2024-05-25T09:45:36.105938Z",
          "iopub.status.idle": "2024-05-25T09:45:36.131525Z",
          "shell.execute_reply.started": "2024-05-25T09:45:36.105899Z",
          "shell.execute_reply": "2024-05-25T09:45:36.130131Z"
        },
        "trusted": true,
        "id": "EXwjdkJILtdA"
      },
      "execution_count": null,
      "outputs": []
    },
    {
      "cell_type": "code",
      "source": [
        "data['No_of_words'] = data['sms'].apply(lambda x:len(nltk.word_tokenize(x)))\n",
        "data"
      ],
      "metadata": {
        "execution": {
          "iopub.status.busy": "2024-05-25T09:45:36.133546Z",
          "iopub.execute_input": "2024-05-25T09:45:36.134262Z",
          "iopub.status.idle": "2024-05-25T09:45:38.214675Z",
          "shell.execute_reply.started": "2024-05-25T09:45:36.13422Z",
          "shell.execute_reply": "2024-05-25T09:45:38.213383Z"
        },
        "trusted": true,
        "id": "I4hblqmxLtdA"
      },
      "execution_count": null,
      "outputs": []
    },
    {
      "cell_type": "code",
      "source": [
        "data['No_of_sentences'] = data['sms'].apply(lambda x:len(nltk.sent_tokenize(x)))\n",
        "data"
      ],
      "metadata": {
        "execution": {
          "iopub.status.busy": "2024-05-25T09:45:38.21588Z",
          "iopub.execute_input": "2024-05-25T09:45:38.216243Z",
          "iopub.status.idle": "2024-05-25T09:45:38.684578Z",
          "shell.execute_reply.started": "2024-05-25T09:45:38.216212Z",
          "shell.execute_reply": "2024-05-25T09:45:38.683223Z"
        },
        "trusted": true,
        "id": "fFBvP0eNLtdB"
      },
      "execution_count": null,
      "outputs": []
    },
    {
      "cell_type": "code",
      "source": [
        "data[data['Category']==1][['No_of_characters','No_of_words','No_of_sentences']].describe()"
      ],
      "metadata": {
        "execution": {
          "iopub.status.busy": "2024-05-25T09:45:38.686116Z",
          "iopub.execute_input": "2024-05-25T09:45:38.686517Z",
          "iopub.status.idle": "2024-05-25T09:45:38.716639Z",
          "shell.execute_reply.started": "2024-05-25T09:45:38.686484Z",
          "shell.execute_reply": "2024-05-25T09:45:38.715263Z"
        },
        "trusted": true,
        "id": "dJwNGPFpLtdB"
      },
      "execution_count": null,
      "outputs": []
    },
    {
      "cell_type": "code",
      "source": [
        "import seaborn as sns\n",
        "new = data.drop(columns = 'sms')\n",
        "sns.heatmap(new.corr(),annot = True)"
      ],
      "metadata": {
        "execution": {
          "iopub.status.busy": "2024-05-25T09:45:38.718053Z",
          "iopub.execute_input": "2024-05-25T09:45:38.718381Z",
          "iopub.status.idle": "2024-05-25T09:45:39.353203Z",
          "shell.execute_reply.started": "2024-05-25T09:45:38.718352Z",
          "shell.execute_reply": "2024-05-25T09:45:39.350727Z"
        },
        "trusted": true,
        "id": "mtmq5NFBLtdB"
      },
      "execution_count": null,
      "outputs": []
    },
    {
      "cell_type": "code",
      "source": [
        "from nltk.corpus import stopwords\n",
        "from nltk.stem.porter import PorterStemmer\n",
        "ps = PorterStemmer()\n",
        "import string\n",
        "def transform_text(text):\n",
        "    text = text.lower()\n",
        "    text = nltk.word_tokenize(text)\n",
        "\n",
        "    y = []\n",
        "    for i in text:\n",
        "        if i.isalnum():\n",
        "            y.append(i)\n",
        "\n",
        "    x = []\n",
        "    for i in y:\n",
        "        if i not in stopwords.words('english') and i not in string.punctuation:\n",
        "            x.append(i)\n",
        "\n",
        "    y = x[:]\n",
        "    x =[]\n",
        "    for i in y:\n",
        "        x.append(ps.stem(i))\n",
        "\n",
        "    return \" \".join(x)"
      ],
      "metadata": {
        "execution": {
          "iopub.status.busy": "2024-05-25T09:45:39.354691Z",
          "iopub.execute_input": "2024-05-25T09:45:39.355149Z",
          "iopub.status.idle": "2024-05-25T09:45:39.365902Z",
          "shell.execute_reply.started": "2024-05-25T09:45:39.355102Z",
          "shell.execute_reply": "2024-05-25T09:45:39.364609Z"
        },
        "trusted": true,
        "id": "jOutyzDJLtdC"
      },
      "execution_count": null,
      "outputs": []
    },
    {
      "cell_type": "code",
      "source": [
        "data['Transformed'] = data['sms'].apply(transform_text)"
      ],
      "metadata": {
        "execution": {
          "iopub.status.busy": "2024-05-25T09:45:39.367345Z",
          "iopub.execute_input": "2024-05-25T09:45:39.367785Z",
          "iopub.status.idle": "2024-05-25T09:45:54.178009Z",
          "shell.execute_reply.started": "2024-05-25T09:45:39.36775Z",
          "shell.execute_reply": "2024-05-25T09:45:54.176783Z"
        },
        "trusted": true,
        "id": "H5wmMlrxLtdC"
      },
      "execution_count": null,
      "outputs": []
    },
    {
      "cell_type": "code",
      "source": [
        "data"
      ],
      "metadata": {
        "execution": {
          "iopub.status.busy": "2024-05-25T09:45:54.180096Z",
          "iopub.execute_input": "2024-05-25T09:45:54.180592Z",
          "iopub.status.idle": "2024-05-25T09:45:54.197988Z",
          "shell.execute_reply.started": "2024-05-25T09:45:54.180548Z",
          "shell.execute_reply": "2024-05-25T09:45:54.196725Z"
        },
        "trusted": true,
        "id": "onNtN0qhLtdC"
      },
      "execution_count": null,
      "outputs": []
    },
    {
      "cell_type": "code",
      "source": [
        "data[['No_of_characters','No_of_words','No_of_sentences']].corrwith(data['Category']).plot.bar(figsize=(16,9), title = 'Correlation with the variables', rot =45, grid=True)"
      ],
      "metadata": {
        "execution": {
          "iopub.status.busy": "2024-05-25T09:45:54.199556Z",
          "iopub.execute_input": "2024-05-25T09:45:54.199942Z",
          "iopub.status.idle": "2024-05-25T09:45:54.595487Z",
          "shell.execute_reply.started": "2024-05-25T09:45:54.199913Z",
          "shell.execute_reply": "2024-05-25T09:45:54.594528Z"
        },
        "trusted": true,
        "id": "7gDXuoLyLtdD"
      },
      "execution_count": null,
      "outputs": []
    },
    {
      "cell_type": "code",
      "source": [
        "spam_corpus = []\n",
        "for elem in data['Transformed'][data['Category']==1].to_list():\n",
        "    for word in elem.split():\n",
        "        spam_corpus.append(word)\n",
        "\n",
        "len(spam_corpus)"
      ],
      "metadata": {
        "execution": {
          "iopub.status.busy": "2024-05-25T09:45:54.596643Z",
          "iopub.execute_input": "2024-05-25T09:45:54.597805Z",
          "iopub.status.idle": "2024-05-25T09:45:54.609272Z",
          "shell.execute_reply.started": "2024-05-25T09:45:54.597767Z",
          "shell.execute_reply": "2024-05-25T09:45:54.608104Z"
        },
        "trusted": true,
        "id": "QZhA9zeOLtdD"
      },
      "execution_count": null,
      "outputs": []
    },
    {
      "cell_type": "code",
      "source": [
        "from collections import Counter\n",
        "import seaborn as sns\n",
        "word = pd.DataFrame(Counter(spam_corpus).most_common(30))\n",
        "\n",
        "sns.barplot(x = word[0], y = word[1],)"
      ],
      "metadata": {
        "execution": {
          "iopub.status.busy": "2024-05-25T09:45:54.610908Z",
          "iopub.execute_input": "2024-05-25T09:45:54.611307Z",
          "iopub.status.idle": "2024-05-25T09:45:55.269527Z",
          "shell.execute_reply.started": "2024-05-25T09:45:54.611276Z",
          "shell.execute_reply": "2024-05-25T09:45:55.268319Z"
        },
        "trusted": true,
        "id": "aUG_iruuLtdD"
      },
      "execution_count": null,
      "outputs": []
    },
    {
      "cell_type": "code",
      "source": [
        "import matplotlib.pyplot as plt\n",
        "from wordcloud import WordCloud\n",
        "\n",
        "# Create separate word clouds for spam and ham messages\n",
        "spam_words = ' '.join(list(data[data['Category'] == 1]['Transformed']))\n",
        "ham_words = ' '.join(list(data[data['Category'] == 0]['Transformed']))\n",
        "\n",
        "# Generate word clouds\n",
        "spam_wordcloud = WordCloud(width=600, height=400, background_color='black').generate(spam_words)\n",
        "ham_wordcloud = WordCloud(width=600, height=400, background_color='black').generate(ham_words)\n",
        "\n",
        "# Display word clouds\n",
        "plt.figure(figsize=(10, 5))\n",
        "plt.subplot(1, 2, 1)\n",
        "plt.imshow(spam_wordcloud, interpolation='bilinear')\n",
        "plt.axis('off')\n",
        "plt.title('Spam Words')\n",
        "\n",
        "plt.subplot(1, 2, 2)\n",
        "plt.imshow(ham_wordcloud, interpolation='bilinear')\n",
        "plt.axis('off')\n",
        "plt.title('Ham Words')\n",
        "\n",
        "plt.show()\n"
      ],
      "metadata": {
        "execution": {
          "iopub.status.busy": "2024-05-25T09:46:21.106188Z",
          "iopub.execute_input": "2024-05-25T09:46:21.106714Z",
          "iopub.status.idle": "2024-05-25T09:46:23.700901Z",
          "shell.execute_reply.started": "2024-05-25T09:46:21.106678Z",
          "shell.execute_reply": "2024-05-25T09:46:23.699649Z"
        },
        "trusted": true,
        "id": "pRY6EtPYLtdD"
      },
      "execution_count": null,
      "outputs": []
    },
    {
      "cell_type": "code",
      "source": [
        "from sklearn.feature_extraction.text import CountVectorizer\n",
        "\n",
        "vectorizer = CountVectorizer()\n",
        "X = vectorizer.fit_transform(data['Transformed']).toarray()\n",
        "X.shape\n"
      ],
      "metadata": {
        "execution": {
          "iopub.status.busy": "2024-05-25T09:46:50.675306Z",
          "iopub.execute_input": "2024-05-25T09:46:50.676115Z",
          "iopub.status.idle": "2024-05-25T09:46:50.865865Z",
          "shell.execute_reply.started": "2024-05-25T09:46:50.676074Z",
          "shell.execute_reply": "2024-05-25T09:46:50.86468Z"
        },
        "trusted": true,
        "id": "8EUqfIzRLtdD"
      },
      "execution_count": null,
      "outputs": []
    },
    {
      "cell_type": "code",
      "source": [
        "y = data['Category'].values"
      ],
      "metadata": {
        "execution": {
          "iopub.status.busy": "2024-05-25T09:47:06.169828Z",
          "iopub.execute_input": "2024-05-25T09:47:06.170243Z",
          "iopub.status.idle": "2024-05-25T09:47:06.175745Z",
          "shell.execute_reply.started": "2024-05-25T09:47:06.170212Z",
          "shell.execute_reply": "2024-05-25T09:47:06.174648Z"
        },
        "trusted": true,
        "id": "POqBQSLhLtdE"
      },
      "execution_count": null,
      "outputs": []
    },
    {
      "cell_type": "code",
      "source": [
        "from sklearn.model_selection import train_test_split\n",
        "\n",
        "X_train, X_test, y_train, y_test = train_test_split(X, y, test_size=0.2, random_state=42)"
      ],
      "metadata": {
        "execution": {
          "iopub.status.busy": "2024-05-25T09:47:22.505668Z",
          "iopub.execute_input": "2024-05-25T09:47:22.506164Z",
          "iopub.status.idle": "2024-05-25T09:47:22.728464Z",
          "shell.execute_reply.started": "2024-05-25T09:47:22.50613Z",
          "shell.execute_reply": "2024-05-25T09:47:22.726598Z"
        },
        "trusted": true,
        "id": "nOazVxIJLtdE"
      },
      "execution_count": null,
      "outputs": []
    },
    {
      "cell_type": "code",
      "source": [
        "from sklearn.naive_bayes import GaussianNB, MultinomialNB, BernoulliNB\n",
        "from sklearn.metrics import accuracy_score, confusion_matrix, classification_report\n",
        "\n",
        "# Create different Naive Bayes models\n",
        "gnb = GaussianNB()\n",
        "mnb = MultinomialNB()\n",
        "bnb = BernoulliNB()\n",
        "\n",
        "# Fit the models with the training data\n",
        "gnb.fit(X_train, y_train)\n",
        "mnb.fit(X_train, y_train)\n",
        "bnb.fit(X_train, y_train)\n",
        "\n",
        "# Predict the labels for the test data\n",
        "y_pred_gnb = gnb.predict(X_test)\n",
        "y_pred_mnb = mnb.predict(X_test)\n",
        "y_pred_bnb = bnb.predict(X_test)\n",
        "\n",
        "# Calculate the accuracy scores for each model\n",
        "accuracy_gnb = accuracy_score(y_test, y_pred_gnb)\n",
        "accuracy_mnb = accuracy_score(y_test, y_pred_mnb)\n",
        "accuracy_bnb = accuracy_score(y_test, y_pred_bnb)\n",
        "\n",
        "# Print the accuracy scores\n",
        "print(\"Gaussian Naive Bayes accuracy:\", accuracy_gnb)\n",
        "print(\"Multinomial Naive Bayes accuracy:\", accuracy_mnb)\n",
        "print(\"Bernoulli Naive Bayes accuracy:\", accuracy_bnb)"
      ],
      "metadata": {
        "execution": {
          "iopub.status.busy": "2024-05-25T09:47:39.288207Z",
          "iopub.execute_input": "2024-05-25T09:47:39.289295Z",
          "iopub.status.idle": "2024-05-25T09:47:40.96585Z",
          "shell.execute_reply.started": "2024-05-25T09:47:39.289239Z",
          "shell.execute_reply": "2024-05-25T09:47:40.964145Z"
        },
        "trusted": true,
        "id": "-9UFV4dALtdE"
      },
      "execution_count": null,
      "outputs": []
    },
    {
      "cell_type": "code",
      "source": [
        "from sklearn.metrics import precision_score\n",
        "\n",
        "# Calculate the precision scores for each model\n",
        "precision_gnb = precision_score(y_test, y_pred_gnb)\n",
        "precision_mnb = precision_score(y_test, y_pred_mnb)\n",
        "precision_bnb = precision_score(y_test, y_pred_bnb)\n",
        "\n",
        "# Print the precision scores\n",
        "print(\"Gaussian Naive Bayes precision:\", precision_gnb)\n",
        "print(\"Multinomial Naive Bayes precision:\", precision_mnb)\n",
        "print(\"Bernoulli Naive Bayes precision:\", precision_bnb)\n"
      ],
      "metadata": {
        "execution": {
          "iopub.status.busy": "2024-05-25T09:48:03.869847Z",
          "iopub.execute_input": "2024-05-25T09:48:03.870519Z",
          "iopub.status.idle": "2024-05-25T09:48:03.892349Z",
          "shell.execute_reply.started": "2024-05-25T09:48:03.87047Z",
          "shell.execute_reply": "2024-05-25T09:48:03.890563Z"
        },
        "trusted": true,
        "id": "Fmst_SbQLtdE"
      },
      "execution_count": null,
      "outputs": []
    },
    {
      "cell_type": "code",
      "source": [
        "from sklearn.feature_extraction.text import TfidfVectorizer\n",
        "\n",
        "# Create a TfidfVectorizer object\n",
        "vectorizer = TfidfVectorizer(max_features=3000)\n",
        "\n",
        "# Fit and transform the transformed text data\n",
        "X = vectorizer.fit_transform(data['Transformed'])\n",
        "\n",
        "# Convert the sparse matrix to a dense array\n",
        "X = X.toarray()\n",
        "\n",
        "# Split the data into training and test sets\n",
        "X_train, X_test, y_train, y_test = train_test_split(X, y, test_size=0.2, random_state=42)\n",
        "\n",
        "# Create different Naive Bayes models\n",
        "gnb = GaussianNB()\n",
        "mnb = MultinomialNB()\n",
        "bnb = BernoulliNB()\n",
        "\n",
        "# Fit the models with the training data\n",
        "gnb.fit(X_train, y_train)\n",
        "mnb.fit(X_train, y_train)\n",
        "bnb.fit(X_train, y_train)\n",
        "\n",
        "# Predict the labels for the test data\n",
        "y_pred_gnb = gnb.predict(X_test)\n",
        "y_pred_mnb = mnb.predict(X_test)\n",
        "y_pred_bnb = bnb.predict(X_test)\n",
        "\n",
        "# Calculate the accuracy scores for each model\n",
        "accuracy_gnb = accuracy_score(y_test, y_pred_gnb)\n",
        "accuracy_mnb = accuracy_score(y_test, y_pred_mnb)\n",
        "accuracy_bnb = accuracy_score(y_test, y_pred_bnb)\n",
        "\n",
        "# Print the accuracy scores\n",
        "print(\"Gaussian Naive Bayes accuracy:\", accuracy_gnb)\n",
        "print(\"Multinomial Naive Bayes accuracy:\", accuracy_mnb)\n",
        "print(\"Bernoulli Naive Bayes accuracy:\", accuracy_bnb)\n"
      ],
      "metadata": {
        "execution": {
          "iopub.status.busy": "2024-05-25T09:48:30.44425Z",
          "iopub.execute_input": "2024-05-25T09:48:30.444864Z",
          "iopub.status.idle": "2024-05-25T09:48:31.302532Z",
          "shell.execute_reply.started": "2024-05-25T09:48:30.44482Z",
          "shell.execute_reply": "2024-05-25T09:48:31.300883Z"
        },
        "trusted": true,
        "id": "X1mM3aE_LtdE"
      },
      "execution_count": null,
      "outputs": []
    },
    {
      "cell_type": "code",
      "source": [
        "# Calculate the precision scores for each model\n",
        "precision_gnb = precision_score(y_test, y_pred_gnb)\n",
        "precision_mnb = precision_score(y_test, y_pred_mnb)\n",
        "precision_bnb = precision_score(y_test, y_pred_bnb)\n",
        "\n",
        "# Print the precision scores\n",
        "print(\"Gaussian Naive Bayes precision:\", precision_gnb)\n",
        "print(\"Multinomial Naive Bayes precision:\", precision_mnb)\n",
        "print(\"Bernoulli Naive Bayes precision:\", precision_bnb)\n"
      ],
      "metadata": {
        "execution": {
          "iopub.status.busy": "2024-05-25T09:48:47.177072Z",
          "iopub.execute_input": "2024-05-25T09:48:47.177633Z",
          "iopub.status.idle": "2024-05-25T09:48:47.198703Z",
          "shell.execute_reply.started": "2024-05-25T09:48:47.177594Z",
          "shell.execute_reply": "2024-05-25T09:48:47.196096Z"
        },
        "trusted": true,
        "id": "EVuhxCGYLtdF"
      },
      "execution_count": null,
      "outputs": []
    },
    {
      "cell_type": "code",
      "source": [
        "#maximum precision and accuracy is in Multinomial Native Bayes\n",
        "import pickle\n",
        "pickle.dump(vectorizer,open('Vectorizer.pkl','wb'))\n",
        "pickle.dump(mnb, open('model.pkl','wb'))"
      ],
      "metadata": {
        "execution": {
          "iopub.status.busy": "2024-05-25T09:54:42.056299Z",
          "iopub.execute_input": "2024-05-25T09:54:42.056935Z",
          "iopub.status.idle": "2024-05-25T09:54:42.083131Z",
          "shell.execute_reply.started": "2024-05-25T09:54:42.056881Z",
          "shell.execute_reply": "2024-05-25T09:54:42.081534Z"
        },
        "trusted": true,
        "id": "DDUJJzmcLtdF"
      },
      "execution_count": null,
      "outputs": []
    },
    {
      "cell_type": "code",
      "source": [],
      "metadata": {
        "id": "CsEBGr0yLtdF"
      },
      "execution_count": null,
      "outputs": []
    }
  ]
}